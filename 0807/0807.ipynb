{
 "cells": [
  {
   "cell_type": "markdown",
   "metadata": {},
   "source": [
    "## 기본 흐름\n",
    "\n",
    "- Data / 처리, 이렇게 둘을 배운다\n",
    "\n",
    "- Data\n",
    "    - [primitive data type](#primitive)\n",
    "    - [series data type](#series)\n",
    "    - dictionary\n",
    "    - design our own interesting data type\n",
    "        - class\n",
    "        \n",
    "- 처리\n",
    "    - [기본 연산](#basic-operation)\n",
    "    - [조건문](#if)\n",
    "    - [loop](#loop)\n",
    "    - 함수\n",
    "    - *라이브러리*\n",
    "        - data mining (numpy / pandas / scipy / sklearn)\n",
    "        - (?) deep learning (tensorflow / keras)\n",
    "- (+ 다음 시간 추가)\n",
    "    - list 수정 부분 추가\n",
    "        - slicing from / to 생략\n",
    "        - insert\n",
    "        - remove\n",
    "        - del\n",
    "    - 형변환\n",
    "    - string formatting\n",
    "    - list 와 string 비교\n",
    "        - membership\n",
    "        - \\+\n",
    "        - *"
   ]
  },
  {
   "cell_type": "markdown",
   "metadata": {},
   "source": [
    "## 다운받을 것\n",
    "\n",
    "- editor\n",
    "    - **spyder**\n",
    "    - pycharm\n",
    "    - **jupyter-lab**\n",
    "    - jupyter notebook\n",
    "        \n",
    "- anaconda\n",
    "    - 각종 라이브러리를 쉽게 다운받게 해주는 패키지\n",
    "    - ex) numpy 같은 라이브러리들을 다운받을 수 있다. 아래와 같은 실행으로 numpy가 있는지 확인해보자.\n",
    "        - `import numpy as np`"
   ]
  },
  {
   "cell_type": "markdown",
   "metadata": {},
   "source": [
    "## Data Mining / machine learning / deep learning\n",
    "\n",
    "- train / test\n",
    "- data mining; constraints\n",
    "    - f / + \n",
    "- machine learning \n",
    "    - f / +? -?\n",
    "- deep learning\n",
    "    - neural network\n",
    "    - https://fredhohman.com/papers/summit"
   ]
  },
  {
   "cell_type": "markdown",
   "metadata": {},
   "source": [
    "<a id='primitive'></a>\n",
    "\n",
    "## 1. Primitive data type\n",
    "\n",
    "- 숫자\n",
    "    - integer\n",
    "        - 0, 1, 2, -3\n",
    "    - float\n",
    "        - 1.2, -0.3, 3.0\n",
    "- 문자\n",
    "    - string\n",
    "        - 작은따옴표 (' ') 나 큰따옴표 (\" \") 로 표현\n",
    "        - \"Hi\", \"a\", \"333\"\n",
    "        - 'sdf'\n",
    "        - \"ss's\"\n",
    "        - 'ss\\'s'\n",
    "    - cf) char\n",
    "        - 한 글자짜리 문자를 의미\n",
    "        - python 에서는 없는 개념. python에서는 char이나 string이나 다 string이라고 부름\n",
    "        - \"a\", \"v\"\n",
    "- Boolean (bool)\n",
    "    - true / false"
   ]
  },
  {
   "cell_type": "markdown",
   "metadata": {},
   "source": [
    "<a id='basic-operation'></a>\n",
    "\n",
    "## 2. 기본 연산\n",
    "\n",
    "### 2.1. Primitive data type의 기본 연산\n",
    "\n",
    "- 숫자\n",
    "    - 사칙연산: +, -, *, / \n",
    "    - **\n",
    "        - a ** b == a 의 b 제곱\n",
    "    - //\n",
    "        - a // b == a 를 b 로 나눈 몫\n",
    "    - %\n",
    "        - a % b == a 를 b 로 나눈 나머지\n",
    "- 문자\n",
    "    - \\+ (concatenate)\n",
    "        - 문자를 덧붙이기\n",
    "        - 예)\n",
    "            ```python\n",
    "            >>> 'aaa' + 'bbb'\n",
    "            'aaabbb'\n",
    "            ```\n",
    "    - *\n",
    "        - concatenate 여러 번 하기\n",
    "        - 예)\n",
    "            ```python\n",
    "            >>> 'a' * 3\n",
    "            'aaa'\n",
    "            ```\n",
    "    - `len()`\n",
    "        - string 의 길이\n",
    "        - 예)\n",
    "            ```python\n",
    "            >>> len('abc')\n",
    "            3\n",
    "            ```\n",
    "    - membership\n",
    "        - 어떤 string 이 어떤 다른 string 안에 포함되어 있는지\n",
    "        - in\n",
    "        - not in\n",
    "        - 예)\n",
    "            ```python\n",
    "            >>> 'bc' in 'abcd'\n",
    "            True\n",
    "            \n",
    "            >>> 'ac' not in 'abcd'\n",
    "            True\n",
    "            ```\n",
    "- bool\n",
    "    - not\n",
    "    - and\n",
    "        - true and true = true\n",
    "        - true and false = false\n",
    "        - false and true = false\n",
    "        - false and false = false\n",
    "    - or\n",
    "        - true or true = true\n",
    "        - true or false = true\n",
    "        - false or true = true\n",
    "        - false or false = false\n",
    "        \n",
    "### 2.2. 비교 연산 (모든 데이터타입 포함)\n",
    "- 비교 연산 종류\n",
    "    - == 같다\n",
    "    - != 같지 않다\n",
    "    - \\> 크다\n",
    "    - < 작다\n",
    "    - \\>= 크거나 같다\n",
    "    - <= 작거나 같다\n",
    "- string 의 대소 비교 연산\n",
    "    - 문자의 대소 비교는 문자들을 사전순으로 나열한 뒤 누가 먼저 앞에 오느냐를 따짐.\n",
    "    - 예)\n",
    "        ```python\n",
    "        >>> 'a' < 'ab'\n",
    "        True\n",
    "        \n",
    "        >>> 'bbb' < 'bc'\n",
    "        True\n",
    "        ```"
   ]
  },
  {
   "cell_type": "markdown",
   "metadata": {},
   "source": [
    "<a id='series'></a>\n",
    "\n",
    "## 3. Series Data type\n",
    "- **여러 개** / **순서대로**\n",
    "    - Series Data type은 여러 개의 데이터를 순서대로 저장한 데이터 타입을 말함\n",
    "- list\n",
    "    - 대괄호로 구성, 원소들은 쉼표(,)로 구분\n",
    "        - 예) `[3, 2, 1]`\n",
    "        - 예) `[]`: 빈 리스트\n",
    "    - 리스트는 리스트의 원소가 될 수 있다.\n",
    "        - 예) `[1, 2, ['a', 'b']]`\n",
    "    - **\"여러 개\"** 특성 관련 연산\n",
    "        - `len()`\n",
    "            - list의 원소가 몇 개인지를 물어봄\n",
    "            - 예)\n",
    "                ```python\n",
    "                >>> len([])\n",
    "                0\n",
    "        \n",
    "                >>> len([1, 2, 'a'])\n",
    "                3\n",
    "                \n",
    "                >>> len([0, 1, [2, 3]])\n",
    "                3\n",
    "                ```\n",
    "        - membership\n",
    "            - string에서와 마찬가지로 멤버십 가능\n",
    "            - 어떤 원소가 list 안에 있는지 물어볼 수 있음\n",
    "            - `in`\n",
    "            - `not in`\n",
    "            - 예)\n",
    "                ```python\n",
    "                >>> lst1 = [1, 2, 3, [4, 5]]\n",
    "    \n",
    "                >>> 1 in lst1\n",
    "                True\n",
    "            \n",
    "                >>> [1, 2] in lst1\n",
    "                False\n",
    "                \n",
    "                >>> [4, 5] in lst1\n",
    "                True\n",
    "                \n",
    "                >>> 4 in lst1\n",
    "                False\n",
    "                \n",
    "                ```\n",
    "                \n",
    "    - **\"순서대로\"** 특성 관련 연산\n",
    "        - '순서대로' 의 개념이 나오면서부터 '몇 번째' 원소인지가 궁금해짐\n",
    "        - index: '몇 번째' 를 의미함\n",
    "            - 모든 index 는 0 부터 시작 (e.g. 첫 번째 원소의 index는 0)\n",
    "                - 예) `['a', 'b', 'c']` 에서 'a' 의 index는 0\n",
    "            - 음수 index 도 가능하다\n",
    "                - index 가 -n 이면 끝에서부터 n 번째를 의미한다.\n",
    "                - 예) `['a', 'b', 'c']` 에서 -1 번째 원소는 c 이다.\n",
    "        - indexing\n",
    "            - index 를 주고 그에 해당하는 원소를 추출 / 수정\n",
    "            - `lst[index]` 와 같은 형식으로 indexing\n",
    "            - 예)\n",
    "                추출\n",
    "                ```python\n",
    "                >>> lst1 = ['a', 'b', 'c']\n",
    "                >>> lst1[-1]\n",
    "                'c'\n",
    "                ```\n",
    "                수정\n",
    "                ```python\n",
    "                >>> lst1 = ['a', 'b', 'c']\n",
    "                >>> lst1[-1] = 'd'\n",
    "                >>> lst1\n",
    "                ['a', 'b', 'd']\n",
    "                ```\n",
    "        - slicing\n",
    "            - index 의 범위를 주고 그에 해당하는 원소들을 추출 / 수정\n",
    "            - `lst[from_index: to_index]`와 같은 형식으로 slicing\n",
    "            - `from_index` 이상 `to_index` 미만에 해당하는 원소들을 slicing\n",
    "            - 예)\n",
    "                추출\n",
    "                ```python\n",
    "                >>> lst1 = ['a', 'b', 'c', 'd']\n",
    "                >>> lst1[0: 3]\n",
    "                ['a', 'b', 'c']\n",
    "                ```\n",
    "                수정\n",
    "                ```python\n",
    "                >>> lst1 = ['a', 'b', 'c', 'd']\n",
    "                >>> lst1[0: 3] = [1, 2]\n",
    "                >>> lst1\n",
    "                [1, 2, 'd']\n",
    "                ```\n",
    "    - list 는 **수정이 가능하다**\n",
    "        - `append()`\n",
    "            - 특정 원소를 리스트 맨 뒤에 덧붙이는 함수\n",
    "            - `lst.append(element)` 와 같은 형태로 사용\n",
    "                - 주의!! `lst = lst.append(element)` 로 실행하게 되면 lst 가 None 이 되어버림\n",
    "            - 예)\n",
    "                ```python\n",
    "                >>> lst = [1, 2, 3, 4]\n",
    "                >>> lst.append(5)\n",
    "                >>> lst\n",
    "                [1, 2, 3, 4, 5]\n",
    "                ```\n",
    "\n",
    "- tuple\n",
    "    - tuple과 list는 거의 같으나, 다만 두 가지 차이점이 있다.\n",
    "        - 소괄호 사용 ()\n",
    "        - 수정 안됨\n",
    "- cf) set \n",
    "    - 집합\n",
    "    - 여러 개의 데이터는 담고 있으나 순서는 상관 없음\n",
    "        - 예) indexing 안됨 `{1, 2, 3}[0]` --> XXXXX\n",
    "    - membership 은 가능\n",
    "        - 예)\n",
    "            ```python\n",
    "            >>> {2, 1} in {{2, 1}, 1, 2, 4}\n",
    "            True\n",
    "            ```"
   ]
  },
  {
   "cell_type": "markdown",
   "metadata": {},
   "source": [
    "## 4. 변수\n",
    "- = (assign) 연산을 이용하여 변수에 값을 대입\n",
    "    - 예)\n",
    "        ```python\n",
    "        x = 3\n",
    "        ```\n",
    "- 변수 이름 짓기!!\n",
    "    - 영어\n",
    "    - 숫자\n",
    "        - 숫자로 시작은 하면 안됨\n",
    "    - white space (e.g. 띄어쓰기) 안됨\n",
    "    - 언더스코어 (_)\n",
    "        - 보통 띄어쓰기 대신 사용\n",
    "        - _로 시작하지 않는게 좋음. 예약어 (keywords) 랑 충돌할 수있음\n",
    "            - \\_\\_main\\_\\_ 등\n",
    "    - naming sense 아주 중요!!\n",
    "        - 변수를 딱 봤을 때 걔가 뭘 하는지 알 수 있게끔 해줘야함\n",
    "        - 변수 이름 `aaa` 이런건 별로임.."
   ]
  },
  {
   "cell_type": "markdown",
   "metadata": {},
   "source": [
    "<a id='if'></a>\n",
    "## 5. 조건문\n",
    "\n",
    "- if\n",
    "    - 형식\n",
    "        ```python\n",
    "        if 조건:\n",
    "            do1 # 당연히 이 안에 복잡한 것들 들어갈 수 있음. 새로운 if문, loop 등등\n",
    "            do2\n",
    "            do3\n",
    "            ...\n",
    "        ```\n",
    "    - 의미: 조건이 True 이면 do1, do2, do3, ... 을 해라\n",
    "- else\n",
    "    - 형식\n",
    "    ```python\n",
    "        if 조건:\n",
    "            ...\n",
    "        else:\n",
    "            do1\n",
    "            do2\n",
    "            do3\n",
    "            ...\n",
    "        ```\n",
    "    - 의미: 조건이 True 가 아니면 do1, do2, do3, ... 을 해라\n",
    "    \n",
    "- elif == else if\n",
    "    - 예)\n",
    "        ```python\n",
    "        x = 6\n",
    "        if x % 5 == 0:\n",
    "            print(5)\n",
    "        elif x % 2 == 0:\n",
    "            print(2)\n",
    "        elif x % 3 == 0:\n",
    "            print(3)\n",
    "        else:\n",
    "            print('x')\n",
    "        ```"
   ]
  },
  {
   "cell_type": "code",
   "execution_count": 7,
   "metadata": {},
   "outputs": [
    {
     "name": "stdout",
     "output_type": "stream",
     "text": [
      "\"I\" is in both s1 and s2\n"
     ]
    }
   ],
   "source": [
    "s1 = \"I love you\"\n",
    "s2 = \"I IIII\"\n",
    "\n",
    "if \"I\" in s1 and s2:\n",
    "    print('\"I\" is in both s1 and s2')"
   ]
  },
  {
   "cell_type": "code",
   "execution_count": 8,
   "metadata": {},
   "outputs": [
    {
     "name": "stdout",
     "output_type": "stream",
     "text": [
      "even\n"
     ]
    }
   ],
   "source": [
    "x = 4\n",
    "# if x가 짝수이면:\n",
    "    \n",
    "# if x를 2로 나눈 나머지가 0이면:\n",
    "    \n",
    "if x % 2 == 0:\n",
    "    print('even')\n",
    "    "
   ]
  },
  {
   "cell_type": "markdown",
   "metadata": {},
   "source": [
    "<a id='loop'></a>\n",
    "\n",
    "## 6. Loop\n",
    "\n",
    "### 6.1 while\n",
    "- 형식\n",
    "    ```python\n",
    "    while 조건:\n",
    "        do1 # 당연히 이 안에 복잡한 것들 들어갈 수 있음. 새로운 if문, loop 등등\n",
    "        do2\n",
    "        do3\n",
    "        ...\n",
    "    ```\n",
    "- 의미: 조건을 만족하는 동안 do1, do2, do3, ... 을 해라\n",
    "- 무한루프 주의!!! 뭔가 계속 프로그램이 돌고 있으면 높은 확률로 무한루프 도는중\n",
    "- 무한루프 방지: 중간중간 프린트를 해보자!"
   ]
  },
  {
   "cell_type": "code",
   "execution_count": 10,
   "metadata": {},
   "outputs": [
    {
     "name": "stdout",
     "output_type": "stream",
     "text": [
      "1\n",
      "2\n"
     ]
    }
   ],
   "source": [
    "# While문 예시 1\n",
    "\n",
    "cnt = 1\n",
    "\n",
    "while cnt < 3:\n",
    "    print(cnt)\n",
    "    cnt = cnt + 1"
   ]
  },
  {
   "cell_type": "code",
   "execution_count": 14,
   "metadata": {},
   "outputs": [
    {
     "name": "stdout",
     "output_type": "stream",
     "text": [
      "index: 0\n",
      "a\n",
      "index: 1\n",
      "b\n",
      "index: 2\n",
      "c\n",
      "index: 3\n",
      "d\n"
     ]
    }
   ],
   "source": [
    "# While문 예시 2\n",
    "\n",
    "lst1 = ['a', 'b', 'c', 'd']\n",
    "index = 0\n",
    "\n",
    "while index < len(lst1):\n",
    "    # 무한루프 방지용 중간중간 프린트\n",
    "    print('index:', index)\n",
    "    \n",
    "    print(lst1[index])\n",
    "    index = index + 1"
   ]
  },
  {
   "cell_type": "code",
   "execution_count": 15,
   "metadata": {},
   "outputs": [
    {
     "name": "stdout",
     "output_type": "stream",
     "text": [
      "d\n",
      "c\n",
      "b\n",
      "a\n"
     ]
    }
   ],
   "source": [
    "# While문 예시 3\n",
    "\n",
    "lst1 = ['a', 'b', 'c', 'd']\n",
    "index = len(lst1) - 1\n",
    "\n",
    "while index >= 0:\n",
    "    print(lst1[index])\n",
    "    index = index - 1"
   ]
  },
  {
   "cell_type": "markdown",
   "metadata": {},
   "source": [
    "### 6.2 For\n",
    "- 형식\n",
    "    ```python\n",
    "    for element in lst:\n",
    "        do1 # 당연히 이 안에 복잡한 것들 들어갈 수 있음. 새로운 if문, loop 등등\n",
    "        do2\n",
    "        ...\n",
    "    ```\n",
    "- 의미: lst 안의 각 원소 element에 대해 do1, do2, ... 를 해라.\n",
    "- **변형1: `range()`와 함께 사용**\n",
    "    - lst가 sequential한 숫자들일 때, range를 사용하면 편하다.\n",
    "    - 예를 들어 [1, 2, 3, 4, ..., 100] 을 일일이 타이핑할 수 없으니 range()를 사용하면 좋다.\n",
    "    - `range(from, to, step)`\n",
    "        - from 부터 to 까지 step 사이즈만큼 늘려가며 숫자의 sequence를 만든다.\n",
    "        - 예)\n",
    "            ```python\n",
    "            >>> evens_range = range(0, 10, 2)\n",
    "            >>> evens_lst = list(evens_range)\n",
    "            >>> evens_lst\n",
    "            [0, 2, 4, 6, 8]\n",
    "            ```\n",
    "    - `range(from, to)`\n",
    "        - from 부터 to 까지 1씩 늘려가며 숫자의 sequence를 만든다. (step = 1 이 default)\n",
    "        - 예)\n",
    "            ```python\n",
    "            >>> one_digit_range = range(0, 10)\n",
    "            >>> one_digit_lst = list(one_digit_range)\n",
    "            >>> one_digit_lst\n",
    "            [0, 1, 2, 3, 4, 5, 6, 7, 8, 9]\n",
    "            ```\n",
    "    - `range(to)`: 0 부터 to 까지 1씩 늘려가며 숫자의 sequence를 만든다. (from = 0, step = 1 이 default)\n",
    "        - 예)\n",
    "            ```python\n",
    "            >>> one_digit_range = range(10)\n",
    "            >>> one_digit_lst = list(one_digit_range)\n",
    "            >>> one_digit_lst\n",
    "            [0, 1, 2, 3, 4, 5, 6, 7, 8, 9]\n",
    "            ```\n",
    "- **변형2: `enumerate`와 함께 사용**\n",
    "    - lst의 각 원소뿐 아니라, 그 원소의 index까지 한꺼번에 동시에 알고싶을 때 enumerate 사용\n",
    "    - 형식\n",
    "        ```python\n",
    "        for index, element in lst:\n",
    "            # 여기서 element는 lst의 각 원소\n",
    "            # 여기서 index는 element의 index\n",
    "            # 물론 index, element 대신 다른 이름의 변수를 써도 무방\n",
    "            \n",
    "            do1\n",
    "            do2\n",
    "            ...\n",
    "        ```       \n",
    "- **변형3: `zip`과 함께 사용**\n",
    "    - lst 여러 개를 동시에 돌리고 싶을 때 zip 사용\n",
    "    - 형식\n",
    "        ```python\n",
    "        for e1, e2, e3, ... in zip(lst1, lst2, lst3, ...):\n",
    "            # 여기서 e1은 lst1의 원소\n",
    "            # 여기서 e2은 lst2의 원소\n",
    "            # 여기서 e3은 lst3의 원소\n",
    "            # 이 때, e1, e2, e3의 index는 동시에 parallel하게 넘어간다.\n",
    "            \n",
    "            do1\n",
    "            do2\n",
    "            ...\n",
    "        ```"
   ]
  },
  {
   "cell_type": "code",
   "execution_count": 16,
   "metadata": {},
   "outputs": [
    {
     "name": "stdout",
     "output_type": "stream",
     "text": [
      "a\n",
      "b\n",
      "c\n"
     ]
    }
   ],
   "source": [
    "# For 문 예시 - 기본\n",
    "lst = ['a', 'b', 'c']\n",
    "for e in lst:\n",
    "    print(e)"
   ]
  },
  {
   "cell_type": "code",
   "execution_count": 21,
   "metadata": {},
   "outputs": [
    {
     "name": "stdout",
     "output_type": "stream",
     "text": [
      "0 은/는 3의 배수\n",
      "6 은/는 3의 배수\n",
      "12 은/는 3의 배수\n",
      "18 은/는 3의 배수\n"
     ]
    }
   ],
   "source": [
    "# For 문 예시 - range() 와 함께 사용\n",
    "for i in range(0, 20, 2):\n",
    "    if i % 3 == 0:\n",
    "        print(i, '은/는 3의 배수')"
   ]
  },
  {
   "cell_type": "code",
   "execution_count": 23,
   "metadata": {},
   "outputs": [
    {
     "name": "stdout",
     "output_type": "stream",
     "text": [
      "0 a\n",
      "1 b\n",
      "2 c\n",
      "3 d\n"
     ]
    }
   ],
   "source": [
    "# For 문 예시 - enumerate 와 함께 사용\n",
    "lst1 = ['a', 'b', 'c', 'd']\n",
    "for i, e in enumerate(lst1):\n",
    "    print(i, e)"
   ]
  },
  {
   "cell_type": "code",
   "execution_count": 24,
   "metadata": {},
   "outputs": [
    {
     "name": "stdout",
     "output_type": "stream",
     "text": [
      "a 1 A\n",
      "b 2 B\n",
      "c 3 C\n"
     ]
    }
   ],
   "source": [
    "# For 문 예시 - zip과 함께 사용\n",
    "lst1 = ['a', 'b', 'c']\n",
    "lst2 = [1, 2, 3]\n",
    "lst3 = ['A', 'B', 'C']\n",
    "for e1, e2, e3 in zip(lst1, lst2, lst3):\n",
    "    print(e1, e2, e3)"
   ]
  }
 ],
 "metadata": {
  "kernelspec": {
   "display_name": "Python 3",
   "language": "python",
   "name": "python3"
  },
  "language_info": {
   "codemirror_mode": {
    "name": "ipython",
    "version": 3
   },
   "file_extension": ".py",
   "mimetype": "text/x-python",
   "name": "python",
   "nbconvert_exporter": "python",
   "pygments_lexer": "ipython3",
   "version": "3.6.7"
  }
 },
 "nbformat": 4,
 "nbformat_minor": 2
}
