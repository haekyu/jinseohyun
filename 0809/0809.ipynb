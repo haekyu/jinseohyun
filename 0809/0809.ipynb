{
 "cells": [
  {
   "cell_type": "markdown",
   "metadata": {},
   "source": [
    "## 형변환\n",
    "\n",
    "- 1 --> 1.0 --> \"1\" --> True\n",
    "- int()\n",
    "- float()\n",
    "- str()\n",
    "- bool()"
   ]
  },
  {
   "cell_type": "code",
   "execution_count": 8,
   "metadata": {},
   "outputs": [
    {
     "data": {
      "text/plain": [
       "True"
      ]
     },
     "execution_count": 8,
     "metadata": {},
     "output_type": "execute_result"
    }
   ],
   "source": [
    "bool(str(int(float(1))))"
   ]
  },
  {
   "cell_type": "markdown",
   "metadata": {},
   "source": [
    "## List vs. String\n",
    "\n",
    "- String\n",
    "    - +\n",
    "    - *\n",
    "    - membership\n",
    "- List\n",
    "    - +\n",
    "    - *\n",
    "    - membership\n",
    "    - slicing\n",
    "        lst = ['a', 'b', 'c', 'd', 'e']\n",
    "        lst[from_idx: to_idx: step_size]\n",
    "        lst[from_idx: to_idx] lst[1: 4]\n",
    "        lst[: to_idx] lst[:4]\n",
    "        lst[from_idx:] lst[1:]\n",
    "        lst[:]"
   ]
  },
  {
   "cell_type": "code",
   "execution_count": 36,
   "metadata": {},
   "outputs": [
    {
     "name": "stdout",
     "output_type": "stream",
     "text": [
      "1\n",
      "2\n",
      "3\n",
      "4\n",
      "1\n",
      "2\n",
      "3\n",
      "4\n",
      "d\n",
      "c\n",
      "b\n",
      "a\n"
     ]
    },
    {
     "data": {
      "text/plain": [
       "['d', 'c', 'b', 'a']"
      ]
     },
     "execution_count": 36,
     "metadata": {},
     "output_type": "execute_result"
    }
   ],
   "source": [
    "lst = ['a', 'b', 'c', 'd', 'e']\n",
    "# separator.join(lst) --> str\n",
    "','.join(lst)\n",
    "\n",
    "### *.csv\n",
    "\n",
    "\n",
    "for i in [1, 2, 3, 4]:\n",
    "    print(i)\n",
    "    \n",
    "for i in range(1, 5):\n",
    "    print(i)\n",
    "\n",
    "s = \"abcd\"\n",
    "for i in reversed(s):\n",
    "    print(i)\n",
    "    \n",
    "list(range(1, 5))\n",
    "list(reversed(s))"
   ]
  },
  {
   "cell_type": "code",
   "execution_count": 25,
   "metadata": {},
   "outputs": [
    {
     "data": {
      "text/plain": [
       "['e', 'd', 'c', 'b', 'a']"
      ]
     },
     "execution_count": 25,
     "metadata": {},
     "output_type": "execute_result"
    }
   ],
   "source": [
    "lst = ['a', 'b', 'c', 'd', 'e']\n",
    "lst[:: -1]"
   ]
  },
  {
   "cell_type": "code",
   "execution_count": 14,
   "metadata": {},
   "outputs": [
    {
     "name": "stdout",
     "output_type": "stream",
     "text": [
      "[['a', 'b'], 'c', 1, 2]\n",
      "[['a', 'b'], 'c', ['a', 'b'], 'c', ['a', 'b'], 'c']\n",
      "True\n",
      "False\n",
      "True\n"
     ]
    }
   ],
   "source": [
    "lst1 = ['a', 'b', 'c']\n",
    "lst2 = [1, 2]\n",
    "\n",
    "print(lst1 + lst2)\n",
    "print(lst1 * 3)\n",
    "print('abc' in 'sdfabcdsdf')\n",
    "print('a' in lst1)\n",
    "print(['a', 'b'] in lst1)"
   ]
  },
  {
   "cell_type": "code",
   "execution_count": 21,
   "metadata": {},
   "outputs": [
    {
     "name": "stdout",
     "output_type": "stream",
     "text": [
      "idx: 2\n",
      "abc_lst[idx] c\n",
      "idx: 1\n",
      "abc_lst[idx] b\n",
      "idx: 0\n",
      "abc_lst[idx] a\n",
      "cba\n"
     ]
    }
   ],
   "source": [
    "# 'abc' --> 'cba'\n",
    "\n",
    "# 'abc' -> 'cba' (google)\n",
    "\n",
    "# 'abc' --> ['a', 'b', 'c'] --> 'cba'\n",
    "\n",
    "abc_lst = list('abc')\n",
    "# cba_lst = abc_lst.reverse()\n",
    "cba_str = ''\n",
    "for idx in range(2, -1, -1):\n",
    "    print('idx:', idx)\n",
    "    print('abc_lst[idx]', abc_lst[idx])\n",
    "#     cba_lst.append(abc_lst[idx])\n",
    "    cba_str = cba_str + abc_lst[idx]\n",
    "print(cba_str)\n"
   ]
  },
  {
   "cell_type": "code",
   "execution_count": 16,
   "metadata": {},
   "outputs": [
    {
     "data": {
      "text/plain": [
       "\"['a', 'b', 'c']\""
      ]
     },
     "execution_count": 16,
     "metadata": {},
     "output_type": "execute_result"
    }
   ],
   "source": [
    "str(['a', 'b', 'c'])"
   ]
  },
  {
   "cell_type": "code",
   "execution_count": 22,
   "metadata": {},
   "outputs": [
    {
     "data": {
      "text/plain": [
       "'a'"
      ]
     },
     "execution_count": 22,
     "metadata": {},
     "output_type": "execute_result"
    }
   ],
   "source": [
    "'abc'[0]"
   ]
  },
  {
   "cell_type": "code",
   "execution_count": null,
   "metadata": {},
   "outputs": [],
   "source": [
    "'yyyy-mm-dd'\n",
    "\n",
    "string formatting -- 기본\n",
    "\n",
    "변수 파트\n",
    "- %02d: int\n",
    "- %.3lf : float\n",
    "- %s : str\n",
    "# - %r\n",
    "\n",
    "고급\n",
    "\n",
    "'{}-{}-{}'.format(2019, 8, 9)"
   ]
  },
  {
   "cell_type": "code",
   "execution_count": 42,
   "metadata": {},
   "outputs": [
    {
     "data": {
      "text/plain": [
       "'2019-08-09'"
      ]
     },
     "execution_count": 42,
     "metadata": {},
     "output_type": "execute_result"
    }
   ],
   "source": [
    "'%4d-%02d-%02d' % (2019, 8, 9)"
   ]
  },
  {
   "cell_type": "code",
   "execution_count": 46,
   "metadata": {},
   "outputs": [
    {
     "data": {
      "text/plain": [
       "'2019-8-9'"
      ]
     },
     "execution_count": 46,
     "metadata": {},
     "output_type": "execute_result"
    }
   ],
   "source": [
    "'{}-{}-{}'.format(2019, 8, 9)"
   ]
  },
  {
   "cell_type": "code",
   "execution_count": 47,
   "metadata": {},
   "outputs": [
    {
     "data": {
      "text/plain": [
       "'Pi is 3.14'"
      ]
     },
     "execution_count": 47,
     "metadata": {},
     "output_type": "execute_result"
    }
   ],
   "source": [
    "'Pi is %.2lf' % (3.141592)"
   ]
  },
  {
   "cell_type": "code",
   "execution_count": 45,
   "metadata": {},
   "outputs": [
    {
     "data": {
      "text/plain": [
       "'Pi is 3.14'"
      ]
     },
     "execution_count": 45,
     "metadata": {},
     "output_type": "execute_result"
    }
   ],
   "source": [
    "import math\n",
    "math.pi \n",
    "'Pi is %.2lf' % (math.pi)"
   ]
  },
  {
   "cell_type": "code",
   "execution_count": 52,
   "metadata": {},
   "outputs": [
    {
     "name": "stdout",
     "output_type": "stream",
     "text": [
      "['a', 'b', 'aaa', 'c']\n",
      "['a', 'b', 'c']\n",
      "['b', 'c']\n"
     ]
    }
   ],
   "source": [
    "# 삽입\n",
    "# insert()\n",
    "\n",
    "lst = ['a', 'b', 'c']\n",
    "lst.insert(2, 'aaa')\n",
    "print(lst)\n",
    "\n",
    "\n",
    "# remove()\n",
    "lst.remove('aaa')\n",
    "print(lst)\n",
    "\n",
    "# del (X) garbage collector\n",
    "del lst[0]\n",
    "print(lst)"
   ]
  },
  {
   "cell_type": "code",
   "execution_count": 54,
   "metadata": {},
   "outputs": [
    {
     "data": {
      "text/plain": [
       "'Love is AN open door'"
      ]
     },
     "execution_count": 54,
     "metadata": {},
     "output_type": "execute_result"
    }
   ],
   "source": [
    "## replace\n",
    "\n",
    "'Love is an open door'.replace('an', 'AN')"
   ]
  },
  {
   "cell_type": "code",
   "execution_count": null,
   "metadata": {},
   "outputs": [],
   "source": [
    "dictionary\n",
    "\n",
    "{key: value, key: value, key: value, key: value}\n",
    "{'철수': 0, '영희': 1}"
   ]
  },
  {
   "cell_type": "code",
   "execution_count": 55,
   "metadata": {},
   "outputs": [
    {
     "name": "stdout",
     "output_type": "stream",
     "text": [
      "{'cat': 1, 'dog': 3, 'bird': 2}\n"
     ]
    }
   ],
   "source": [
    "age_dict = {'cat': 1, 'dog': 3, 'bird': 2}\n",
    "print(age_dict)"
   ]
  },
  {
   "cell_type": "code",
   "execution_count": 68,
   "metadata": {},
   "outputs": [
    {
     "name": "stdout",
     "output_type": "stream",
     "text": [
      "{'cat': 1, 'dog': 3, 'bird': 5, 5: True}\n",
      "{'cat': 1, 'dog': 3, 'bird': 5, 5: True}\n"
     ]
    }
   ],
   "source": [
    "# 검색\n",
    "age_dict['bird']\n",
    "\n",
    "# 수정\n",
    "age_dict['bird'] = 5\n",
    "print(age_dict)\n",
    "\n",
    "# 삽입\n",
    "age_dict[5] = True\n",
    "\n",
    "print(age_dict)"
   ]
  },
  {
   "cell_type": "code",
   "execution_count": 59,
   "metadata": {},
   "outputs": [
    {
     "data": {
      "text/plain": [
       "False"
      ]
     },
     "execution_count": 59,
     "metadata": {},
     "output_type": "execute_result"
    }
   ],
   "source": [
    "# membership\n",
    "'ppp' in age_dict"
   ]
  },
  {
   "cell_type": "code",
   "execution_count": 64,
   "metadata": {},
   "outputs": [
    {
     "name": "stdout",
     "output_type": "stream",
     "text": [
      "dict_values([1, 3, 5])\n",
      "<class 'dict_values'>\n",
      "<class 'list'>\n"
     ]
    },
    {
     "data": {
      "text/plain": [
       "True"
      ]
     },
     "execution_count": 64,
     "metadata": {},
     "output_type": "execute_result"
    }
   ],
   "source": [
    "# age_dict values\n",
    "print(age_dict.values())\n",
    "print(type(age_dict.values()))\n",
    "\n",
    "print(type([1, 3, 5]))\n",
    "5 in age_dict.values()"
   ]
  },
  {
   "cell_type": "code",
   "execution_count": 65,
   "metadata": {},
   "outputs": [
    {
     "data": {
      "text/plain": [
       "dict_keys(['cat', 'dog', 'bird'])"
      ]
     },
     "execution_count": 65,
     "metadata": {},
     "output_type": "execute_result"
    }
   ],
   "source": [
    "# keys()\n",
    "age_dict.keys()"
   ]
  },
  {
   "cell_type": "code",
   "execution_count": null,
   "metadata": {},
   "outputs": [],
   "source": [
    "names = ['as', 'df', 'sdf', 'sdf2', 'sdf3']\n",
    "ages = [1, 5, 2, 3, 4]"
   ]
  },
  {
   "cell_type": "code",
   "execution_count": 66,
   "metadata": {},
   "outputs": [
    {
     "ename": "KeyError",
     "evalue": "3",
     "output_type": "error",
     "traceback": [
      "\u001b[0;31m---------------------------------------------------------------------------\u001b[0m",
      "\u001b[0;31mKeyError\u001b[0m                                  Traceback (most recent call last)",
      "\u001b[0;32m<ipython-input-66-569edb88760c>\u001b[0m in \u001b[0;36m<module>\u001b[0;34m\u001b[0m\n\u001b[0;32m----> 1\u001b[0;31m \u001b[0mage_dict\u001b[0m\u001b[0;34m[\u001b[0m\u001b[0;36m3\u001b[0m\u001b[0;34m]\u001b[0m\u001b[0;34m\u001b[0m\u001b[0;34m\u001b[0m\u001b[0m\n\u001b[0m",
      "\u001b[0;31mKeyError\u001b[0m: 3"
     ]
    }
   ],
   "source": [
    "age_dict[]"
   ]
  },
  {
   "cell_type": "code",
   "execution_count": null,
   "metadata": {},
   "outputs": [],
   "source": [
    "{}"
   ]
  },
  {
   "cell_type": "code",
   "execution_count": null,
   "metadata": {},
   "outputs": [],
   "source": [
    "love ......\n",
    "\n",
    "frequency\n",
    "\n",
    "{\n",
    "love: ?\n",
    "can: ?\n",
    "}"
   ]
  },
  {
   "cell_type": "code",
   "execution_count": 69,
   "metadata": {},
   "outputs": [],
   "source": [
    "# 함수\n",
    "\n",
    "def 함수_이름(input1, input2, input3):\n",
    "    ㅁㄴㄹㅎ\n",
    "    ㄴㄹㅇ\n",
    "    ㄴㅇㄹㅈㄷ\n",
    "    ㄴㅇ\n",
    "    ㄹㄴㅇㄹ\n",
    "    ㄴㅇㄹ\n",
    "    \n",
    "    return output1, output2, .."
   ]
  },
  {
   "cell_type": "code",
   "execution_count": 70,
   "metadata": {},
   "outputs": [],
   "source": [
    "# f(x) = 2x\n",
    "\n",
    "def f(x):\n",
    "    return 2 * x"
   ]
  },
  {
   "cell_type": "code",
   "execution_count": 71,
   "metadata": {},
   "outputs": [
    {
     "name": "stdout",
     "output_type": "stream",
     "text": [
      "2\n"
     ]
    }
   ],
   "source": [
    "y = f(1)\n",
    "print(y)"
   ]
  },
  {
   "cell_type": "code",
   "execution_count": null,
   "metadata": {},
   "outputs": [],
   "source": [
    "# f(x, y, z) = x + y + z\n",
    "\n",
    "# f(x, y, z) = \n",
    "    만약 z가 양수일 경우:\n",
    "        x + y\n",
    "    아니면:\n",
    "        x + y + z"
   ]
  },
  {
   "cell_type": "code",
   "execution_count": null,
   "metadata": {},
   "outputs": [],
   "source": [
    "함수 이름: words_freq\n",
    "인풋: 어떤 스트링\n",
    "아웃풋: 워드 프리퀀시 딕셔너리\n",
    "    "
   ]
  },
  {
   "cell_type": "code",
   "execution_count": null,
   "metadata": {},
   "outputs": [],
   "source": [
    "# 파일 읽고 쓰기\n",
    "# numpy\n",
    "# pandas"
   ]
  },
  {
   "cell_type": "code",
   "execution_count": null,
   "metadata": {},
   "outputs": [],
   "source": []
  },
  {
   "cell_type": "code",
   "execution_count": null,
   "metadata": {},
   "outputs": [],
   "source": []
  },
  {
   "cell_type": "code",
   "execution_count": null,
   "metadata": {},
   "outputs": [],
   "source": []
  },
  {
   "cell_type": "code",
   "execution_count": null,
   "metadata": {},
   "outputs": [],
   "source": []
  },
  {
   "cell_type": "code",
   "execution_count": null,
   "metadata": {},
   "outputs": [],
   "source": []
  },
  {
   "cell_type": "code",
   "execution_count": null,
   "metadata": {},
   "outputs": [],
   "source": []
  },
  {
   "cell_type": "code",
   "execution_count": null,
   "metadata": {},
   "outputs": [],
   "source": []
  }
 ],
 "metadata": {
  "kernelspec": {
   "display_name": "Python 3",
   "language": "python",
   "name": "python3"
  },
  "language_info": {
   "codemirror_mode": {
    "name": "ipython",
    "version": 3
   },
   "file_extension": ".py",
   "mimetype": "text/x-python",
   "name": "python",
   "nbconvert_exporter": "python",
   "pygments_lexer": "ipython3",
   "version": "3.6.7"
  }
 },
 "nbformat": 4,
 "nbformat_minor": 2
}
