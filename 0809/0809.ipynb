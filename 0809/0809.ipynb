{
 "cells": [
  {
   "cell_type": "markdown",
   "metadata": {},
   "source": [
    "## 형변환\n",
    "\n",
    "- 데이터의 타입을 변화시킴.\n",
    "- 예) 1 --> 1.0 --> \"1\" --> True\n",
    "- 내가 얻고싶은 데이터 타입으로 감싸주면 된다!\n",
    "    - 예)\n",
    "        ```python\n",
    "        # 3 -> 3.0 (int -> float)\n",
    "        print(type(float(3)))\n",
    "        ```\n",
    "        출력 결과: int 3이 float의 무늬를 뒤집어 쓰며 float 3.0이 된다.\n",
    "        ```\n",
    "        <class 'float'>\n",
    "        ```\n",
    "    - `int()`\n",
    "    - `float()`\n",
    "    - `str()`\n",
    "    - `bool()`"
   ]
  },
  {
   "cell_type": "code",
   "execution_count": 3,
   "metadata": {},
   "outputs": [
    {
     "name": "stdout",
     "output_type": "stream",
     "text": [
      "float_1 type: <class 'float'>\n",
      "int_1 type: <class 'int'>\n",
      "int_1 type: <class 'str'>\n",
      "bool_1 type: <class 'bool'>\n"
     ]
    }
   ],
   "source": [
    "float_1 = float(1)\n",
    "print('float_1 type:', type(float_1))\n",
    "\n",
    "int_1 = int(float_1)\n",
    "print('int_1 type:', type(int_1))\n",
    "\n",
    "str_1 = str(int_1)\n",
    "print('int_1 type:', type(str_1))\n",
    "\n",
    "bool_1 = bool(str_1)\n",
    "print('bool_1 type:', type(bool_1))"
   ]
  },
  {
   "cell_type": "markdown",
   "metadata": {},
   "source": [
    "## String vs. List\n",
    "- String 과 List는 비슷한 점이 많음.\n",
    "    - String이 사실은 태생적으로 문자 하나 하나를 리스트에 담은 꼴임.\n",
    "    - String을 list로 형변환하면 우리가 예상하고있는 리스트가 나옴.\n",
    "        ```python\n",
    "        >>> list('abcd')\n",
    "        ['a', 'b', 'c', 'd']\n",
    "        ```\n",
    "- String\n",
    "    - +\n",
    "    - *\n",
    "    - membership\n",
    "        ```python\n",
    "        >>> print('abc' in '+++abc+++')\n",
    "        True\n",
    "        ```\n",
    "    - slicing\n",
    "        ```python\n",
    "        # str initialization\n",
    "        >>> sss = 'abcde'\n",
    "        \n",
    "        # from 이상 to 미만, step_size 있음\n",
    "        # sss[from_idx: to_idx: step_size]\n",
    "        >>> sss[1: 4: 2]\n",
    "        'bd'\n",
    "        \n",
    "        # from 이상 to 미만, step_size=1\n",
    "        # sss[from_idx: to_idx]\n",
    "        >>> sss[1: 4]\n",
    "        'bcd'\n",
    "\n",
    "        # to 미만, from=0, step_size=1\n",
    "        # sss[: to_idx]\n",
    "        >>> sss[: 4]\n",
    "        'abcd'\n",
    "        \n",
    "        # from 이상, to 끝까지, step_size=1\n",
    "        # sss[from_idx:]\n",
    "        >>> sss[1: ]\n",
    "        'bcde'\n",
    "        \n",
    "        # sss 전체\n",
    "        # sss[:]\n",
    "        >>> sss[:]\n",
    "        'abcde'\n",
    "    \n",
    "        ```\n",
    "- List\n",
    "    - +\n",
    "    - *\n",
    "    - membership\n",
    "    - slicing\n",
    "        ```python\n",
    "        # lst initialization\n",
    "        >>> lst = ['a', 'b', 'c', 'd', 'e']\n",
    "    \n",
    "        # from 이상 to 미만, step_size 있음\n",
    "        # lst[from_idx: to_idx: step_size]\n",
    "        >>> lst[1: 4: 2]\n",
    "        ['b', 'd']\n",
    "        \n",
    "        # from 이상 to 미만, step_size=1\n",
    "        # lst[from_idx: to_idx]\n",
    "        >>> lst[1: 4]\n",
    "        ['b', 'c', 'd']\n",
    "\n",
    "        # to 미만, from=0, step_size=1\n",
    "        # lst[: to_idx]\n",
    "        >>> lst[: 4]\n",
    "        ['a', 'b', 'c', 'd']\n",
    "        \n",
    "        # from 이상, to 끝까지, step_size=1\n",
    "        # lst[from_idx:]\n",
    "        >>> lst[1: ]\n",
    "        ['b', 'c', 'd', 'e']\n",
    "        \n",
    "        # lst 전체\n",
    "        # lst[:]\n",
    "        >>> lst[:]\n",
    "        ['a', 'b', 'c', 'd', 'e']\n",
    "        ```"
   ]
  },
  {
   "cell_type": "code",
   "execution_count": 14,
   "metadata": {},
   "outputs": [
    {
     "name": "stdout",
     "output_type": "stream",
     "text": [
      "lst1 = ['a', 'b', 'c'] , lst2 = [1, 2]\n",
      "lst1 + lst2 = ['a', 'b', 'c', 1, 2]\n",
      "lst1 * 3 = ['a', 'b', 'c', 'a', 'b', 'c', 'a', 'b', 'c']\n",
      "'a' in lst1 =  True\n",
      "['a', 'b'] in lst1 = False\n"
     ]
    }
   ],
   "source": [
    "# List +, *, membership 예제\n",
    "lst1 = ['a', 'b', 'c']\n",
    "lst2 = [1, 2]\n",
    "\n",
    "print('lst1 =', lst1, ', lst2 =', lst2)\n",
    "print('lst1 + lst2 =', lst1 + lst2)\n",
    "print('lst1 * 3 =', lst1 * 3)\n",
    "print(\"'a' in lst1 = \", 'a' in lst1)\n",
    "print(\"['a', 'b'] in lst1 =\", ['a', 'b'] in lst1)"
   ]
  },
  {
   "cell_type": "code",
   "execution_count": 7,
   "metadata": {},
   "outputs": [
    {
     "name": "stdout",
     "output_type": "stream",
     "text": [
      "['e', 'd', 'c', 'b', 'a']\n"
     ]
    }
   ],
   "source": [
    "# List slicing 예제 -- step_size = -1 일때, 거꾸로 방향으로 진행\n",
    "lst = ['a', 'b', 'c', 'd', 'e']\n",
    "print(lst[:: -1])"
   ]
  },
  {
   "cell_type": "markdown",
   "metadata": {},
   "source": [
    "## String 기타\n",
    "- `join()` 함수\n",
    "    - 형식: `separator.join(lst)`\n",
    "    - 실행: separator를 기준으로 lst 내 모든 원소들을 붙여 하나의 스트링을 만든다.\n",
    "    - 예)\n",
    "        ```python\n",
    "        >>> lst = ['a', 'b', 'c', 'd', 'e']\n",
    "        >>> '-'.join(lst)\n",
    "        'a-b-c-d-e'\n",
    "        ```\n",
    "- `replace()` 함수\n",
    "    - 형식: `sss.replace(from, to)`\n",
    "    - 실행: sss라는 스트링에서 from 부분을 죄다 to 부분으로 바꾼다.\n",
    "    - 예)\n",
    "        ```python\n",
    "        >>> sss = 'Love is an open door'\n",
    "        >>> sss.replace('an', 'AN')\n",
    "        'Love is AN open door'\n",
    "        >>> sss.replace('an', '')\n",
    "        'Love is  open door'\n",
    "        ```"
   ]
  },
  {
   "cell_type": "markdown",
   "metadata": {},
   "source": [
    "## String formatting 1 - 기본\n",
    "- String formatting: 특정 형식의 스트링을 만드는 것을 말함.\n",
    "- 만드는 방법\n",
    "    - '스트링 패턴' % (패턴 내에 넣을 값들)\n",
    "    - '... 타입1 타입2 ...' % (값1, 값2, ...)\n",
    "- 패턴 내 데이터 타입 표시 (기본)\n",
    "    - %d: int\n",
    "    - %lf: float\n",
    "    - %s: str\n",
    "    - %r: bool\n",
    "- 패턴 내 데이터 타입 표시 (자릿수까지)\n",
    "    - %d\n",
    "        - %3d: 세 자리로 출력\n",
    "        - %03d: 세 자리로 출력하되, 빈 자리는 0으로 출력\n",
    "        - 예)\n",
    "            ```python\n",
    "            y, m, d = 2019, 8, 9\n",
    "            yymmdd = '%s-%02d-%02d' % (str(y)[-2:], m, d)\n",
    "            print(yymmdd)\n",
    "            ```\n",
    "            출력 결과\n",
    "            ```\n",
    "            '19-08-09'\n",
    "            ```\n",
    "    - %lf\n",
    "        - %.2lf: 소숫점 둘째자리까지 출력\n",
    "        - 예)\n",
    "            ```python\n",
    "            >>> import math\n",
    "            >>> 'Pi is %.2lf' % (math.pi)\n",
    "            'Pi is 3.14'\n",
    "            ```\n",
    "\n",
    "\n",
    "## String formatting 2 - 고급\n",
    "- 스트링 패턴 내 변수의 데이터 타입을 굳이 정하지 않고 싶을 때 사용\n",
    "- 만드는 방법\n",
    "    - '스트링 패턴'.format(패턴 내에 넣을 값들)\n",
    "    - '... {} {} ...'.format(값1, 값2, ...)\n",
    "    - {} 내에 값1,2, ... 이 순서대로 들어간다.\n",
    "- 예)\n",
    "    ```python\n",
    "    name = 'myfile'\n",
    "    extension = 'txt'\n",
    "    filename = '{}.{}'.format(name, extension)\n",
    "    print(filename)\n",
    "    ```\n",
    "    출력 결과\n",
    "    ```\n",
    "    myfile.txt\n",
    "    ```\n"
   ]
  },
  {
   "cell_type": "code",
   "execution_count": 52,
   "metadata": {},
   "outputs": [
    {
     "name": "stdout",
     "output_type": "stream",
     "text": [
      "['a', 'b', 'aaa', 'c']\n",
      "['a', 'b', 'c']\n",
      "['b', 'c']\n"
     ]
    }
   ],
   "source": [
    "# 삽입\n",
    "# insert()\n",
    "\n",
    "lst = ['a', 'b', 'c']\n",
    "lst.insert(2, 'aaa')\n",
    "print(lst)\n",
    "\n",
    "\n",
    "# remove()\n",
    "lst.remove('aaa')\n",
    "print(lst)\n",
    "\n",
    "# del (X) garbage collector\n",
    "del lst[0]\n",
    "print(lst)"
   ]
  },
  {
   "cell_type": "code",
   "execution_count": 54,
   "metadata": {},
   "outputs": [
    {
     "data": {
      "text/plain": [
       "'Love is AN open door'"
      ]
     },
     "execution_count": 54,
     "metadata": {},
     "output_type": "execute_result"
    }
   ],
   "source": []
  },
  {
   "cell_type": "code",
   "execution_count": null,
   "metadata": {},
   "outputs": [],
   "source": [
    "dictionary\n",
    "\n",
    "{key: value, key: value, key: value, key: value}\n",
    "{'철수': 0, '영희': 1}"
   ]
  },
  {
   "cell_type": "code",
   "execution_count": 55,
   "metadata": {},
   "outputs": [
    {
     "name": "stdout",
     "output_type": "stream",
     "text": [
      "{'cat': 1, 'dog': 3, 'bird': 2}\n"
     ]
    }
   ],
   "source": [
    "age_dict = {'cat': 1, 'dog': 3, 'bird': 2}\n",
    "print(age_dict)"
   ]
  },
  {
   "cell_type": "code",
   "execution_count": 68,
   "metadata": {},
   "outputs": [
    {
     "name": "stdout",
     "output_type": "stream",
     "text": [
      "{'cat': 1, 'dog': 3, 'bird': 5, 5: True}\n",
      "{'cat': 1, 'dog': 3, 'bird': 5, 5: True}\n"
     ]
    }
   ],
   "source": [
    "# 검색\n",
    "age_dict['bird']\n",
    "\n",
    "# 수정\n",
    "age_dict['bird'] = 5\n",
    "print(age_dict)\n",
    "\n",
    "# 삽입\n",
    "age_dict[5] = True\n",
    "\n",
    "print(age_dict)"
   ]
  },
  {
   "cell_type": "code",
   "execution_count": 59,
   "metadata": {},
   "outputs": [
    {
     "data": {
      "text/plain": [
       "False"
      ]
     },
     "execution_count": 59,
     "metadata": {},
     "output_type": "execute_result"
    }
   ],
   "source": [
    "# membership\n",
    "'ppp' in age_dict"
   ]
  },
  {
   "cell_type": "code",
   "execution_count": 64,
   "metadata": {},
   "outputs": [
    {
     "name": "stdout",
     "output_type": "stream",
     "text": [
      "dict_values([1, 3, 5])\n",
      "<class 'dict_values'>\n",
      "<class 'list'>\n"
     ]
    },
    {
     "data": {
      "text/plain": [
       "True"
      ]
     },
     "execution_count": 64,
     "metadata": {},
     "output_type": "execute_result"
    }
   ],
   "source": [
    "# age_dict values\n",
    "print(age_dict.values())\n",
    "print(type(age_dict.values()))\n",
    "\n",
    "print(type([1, 3, 5]))\n",
    "5 in age_dict.values()"
   ]
  },
  {
   "cell_type": "code",
   "execution_count": 65,
   "metadata": {},
   "outputs": [
    {
     "data": {
      "text/plain": [
       "dict_keys(['cat', 'dog', 'bird'])"
      ]
     },
     "execution_count": 65,
     "metadata": {},
     "output_type": "execute_result"
    }
   ],
   "source": [
    "# keys()\n",
    "age_dict.keys()"
   ]
  },
  {
   "cell_type": "code",
   "execution_count": null,
   "metadata": {},
   "outputs": [],
   "source": [
    "names = ['as', 'df', 'sdf', 'sdf2', 'sdf3']\n",
    "ages = [1, 5, 2, 3, 4]"
   ]
  },
  {
   "cell_type": "code",
   "execution_count": 66,
   "metadata": {},
   "outputs": [
    {
     "ename": "KeyError",
     "evalue": "3",
     "output_type": "error",
     "traceback": [
      "\u001b[0;31m---------------------------------------------------------------------------\u001b[0m",
      "\u001b[0;31mKeyError\u001b[0m                                  Traceback (most recent call last)",
      "\u001b[0;32m<ipython-input-66-569edb88760c>\u001b[0m in \u001b[0;36m<module>\u001b[0;34m\u001b[0m\n\u001b[0;32m----> 1\u001b[0;31m \u001b[0mage_dict\u001b[0m\u001b[0;34m[\u001b[0m\u001b[0;36m3\u001b[0m\u001b[0;34m]\u001b[0m\u001b[0;34m\u001b[0m\u001b[0;34m\u001b[0m\u001b[0m\n\u001b[0m",
      "\u001b[0;31mKeyError\u001b[0m: 3"
     ]
    }
   ],
   "source": [
    "age_dict[]"
   ]
  },
  {
   "cell_type": "code",
   "execution_count": null,
   "metadata": {},
   "outputs": [],
   "source": [
    "{}"
   ]
  },
  {
   "cell_type": "code",
   "execution_count": null,
   "metadata": {},
   "outputs": [],
   "source": [
    "love ......\n",
    "\n",
    "frequency\n",
    "\n",
    "{\n",
    "love: ?\n",
    "can: ?\n",
    "}"
   ]
  },
  {
   "cell_type": "code",
   "execution_count": 69,
   "metadata": {},
   "outputs": [],
   "source": [
    "# 함수\n",
    "\n",
    "def 함수_이름(input1, input2, input3):\n",
    "    ㅁㄴㄹㅎ\n",
    "    ㄴㄹㅇ\n",
    "    ㄴㅇㄹㅈㄷ\n",
    "    ㄴㅇ\n",
    "    ㄹㄴㅇㄹ\n",
    "    ㄴㅇㄹ\n",
    "    \n",
    "    return output1, output2, .."
   ]
  },
  {
   "cell_type": "code",
   "execution_count": 70,
   "metadata": {},
   "outputs": [],
   "source": [
    "# f(x) = 2x\n",
    "\n",
    "def f(x):\n",
    "    return 2 * x"
   ]
  },
  {
   "cell_type": "code",
   "execution_count": 71,
   "metadata": {},
   "outputs": [
    {
     "name": "stdout",
     "output_type": "stream",
     "text": [
      "2\n"
     ]
    }
   ],
   "source": [
    "y = f(1)\n",
    "print(y)"
   ]
  },
  {
   "cell_type": "code",
   "execution_count": null,
   "metadata": {},
   "outputs": [],
   "source": [
    "# f(x, y, z) = x + y + z\n",
    "\n",
    "# f(x, y, z) = \n",
    "    만약 z가 양수일 경우:\n",
    "        x + y\n",
    "    아니면:\n",
    "        x + y + z"
   ]
  },
  {
   "cell_type": "code",
   "execution_count": null,
   "metadata": {},
   "outputs": [],
   "source": [
    "함수 이름: words_freq\n",
    "인풋: 어떤 스트링\n",
    "아웃풋: 워드 프리퀀시 딕셔너리\n",
    "    "
   ]
  },
  {
   "cell_type": "code",
   "execution_count": null,
   "metadata": {},
   "outputs": [],
   "source": [
    "# 파일 읽고 쓰기\n",
    "# numpy\n",
    "# pandas"
   ]
  },
  {
   "cell_type": "code",
   "execution_count": null,
   "metadata": {},
   "outputs": [],
   "source": []
  },
  {
   "cell_type": "code",
   "execution_count": null,
   "metadata": {},
   "outputs": [],
   "source": []
  },
  {
   "cell_type": "code",
   "execution_count": null,
   "metadata": {},
   "outputs": [],
   "source": []
  },
  {
   "cell_type": "code",
   "execution_count": null,
   "metadata": {},
   "outputs": [],
   "source": []
  },
  {
   "cell_type": "code",
   "execution_count": null,
   "metadata": {},
   "outputs": [],
   "source": []
  },
  {
   "cell_type": "code",
   "execution_count": null,
   "metadata": {},
   "outputs": [],
   "source": []
  },
  {
   "cell_type": "code",
   "execution_count": null,
   "metadata": {},
   "outputs": [],
   "source": []
  }
 ],
 "metadata": {
  "kernelspec": {
   "display_name": "Python 3",
   "language": "python",
   "name": "python3"
  },
  "language_info": {
   "codemirror_mode": {
    "name": "ipython",
    "version": 3
   },
   "file_extension": ".py",
   "mimetype": "text/x-python",
   "name": "python",
   "nbconvert_exporter": "python",
   "pygments_lexer": "ipython3",
   "version": "3.6.7"
  }
 },
 "nbformat": 4,
 "nbformat_minor": 2
}
