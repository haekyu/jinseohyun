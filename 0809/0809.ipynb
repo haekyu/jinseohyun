{
 "cells": [
  {
   "cell_type": "markdown",
   "metadata": {},
   "source": [
    "## 형변환\n",
    "\n",
    "- 데이터의 타입을 변화시킴.\n",
    "- 예) 1 --> 1.0 --> \"1\" --> True\n",
    "- 내가 얻고싶은 데이터 타입으로 감싸주면 된다!\n",
    "    - 예)\n",
    "        ```python\n",
    "        # 3 -> 3.0 (int -> float)\n",
    "        print(type(float(3)))\n",
    "        ```\n",
    "        출력 결과: int 3이 float의 무늬를 뒤집어 쓰며 float 3.0이 된다.\n",
    "        ```\n",
    "        <class 'float'>\n",
    "        ```\n",
    "    - `int()`\n",
    "    - `float()`\n",
    "    - `str()`\n",
    "    - `bool()`"
   ]
  },
  {
   "cell_type": "code",
   "execution_count": 34,
   "metadata": {},
   "outputs": [
    {
     "name": "stdout",
     "output_type": "stream",
     "text": [
      "float_1 type: <class 'float'>\n",
      "int_1 type: <class 'int'>\n",
      "str_1 type: <class 'str'>\n",
      "bool_1 type: <class 'bool'>\n"
     ]
    }
   ],
   "source": [
    "float_1 = float(1)\n",
    "print('float_1 type:', type(float_1))\n",
    "\n",
    "int_1 = int(float_1)\n",
    "print('int_1 type:', type(int_1))\n",
    "\n",
    "str_1 = str(int_1)\n",
    "print('str_1 type:', type(str_1))\n",
    "\n",
    "bool_1 = bool(str_1)\n",
    "print('bool_1 type:', type(bool_1))"
   ]
  },
  {
   "cell_type": "markdown",
   "metadata": {},
   "source": [
    "## String vs. List\n",
    "- String 과 List는 비슷한 점이 많음.\n",
    "    - String이 사실은 태생적으로 문자 하나 하나를 리스트에 담은 꼴임.\n",
    "    - String을 list로 형변환하면 우리가 예상하고있는 리스트가 나옴.\n",
    "        ```python\n",
    "        >>> list('abcd')\n",
    "        ['a', 'b', 'c', 'd']\n",
    "        ```\n",
    "- String\n",
    "    - +\n",
    "    - *\n",
    "    - membership\n",
    "        ```python\n",
    "        >>> print('abc' in '+++abc+++')\n",
    "        True\n",
    "        ```\n",
    "    - slicing\n",
    "        ```python\n",
    "        # str initialization\n",
    "        >>> sss = 'abcde'\n",
    "        \n",
    "        # from 이상 to 미만, step_size 있음\n",
    "        # sss[from_idx: to_idx: step_size]\n",
    "        >>> sss[1: 4: 2]\n",
    "        'bd'\n",
    "        \n",
    "        # from 이상 to 미만, step_size=1\n",
    "        # sss[from_idx: to_idx]\n",
    "        >>> sss[1: 4]\n",
    "        'bcd'\n",
    "\n",
    "        # to 미만, from=0, step_size=1\n",
    "        # sss[: to_idx]\n",
    "        >>> sss[: 4]\n",
    "        'abcd'\n",
    "        \n",
    "        # from 이상, to 끝까지, step_size=1\n",
    "        # sss[from_idx:]\n",
    "        >>> sss[1: ]\n",
    "        'bcde'\n",
    "        \n",
    "        # sss 전체\n",
    "        # sss[:]\n",
    "        >>> sss[:]\n",
    "        'abcde'\n",
    "    \n",
    "        ```\n",
    "- List\n",
    "    - +\n",
    "    - *\n",
    "    - membership\n",
    "    - slicing\n",
    "        ```python\n",
    "        # lst initialization\n",
    "        >>> lst = ['a', 'b', 'c', 'd', 'e']\n",
    "    \n",
    "        # from 이상 to 미만, step_size 있음\n",
    "        # lst[from_idx: to_idx: step_size]\n",
    "        >>> lst[1: 4: 2]\n",
    "        ['b', 'd']\n",
    "        \n",
    "        # from 이상 to 미만, step_size=1\n",
    "        # lst[from_idx: to_idx]\n",
    "        >>> lst[1: 4]\n",
    "        ['b', 'c', 'd']\n",
    "\n",
    "        # to 미만, from=0, step_size=1\n",
    "        # lst[: to_idx]\n",
    "        >>> lst[: 4]\n",
    "        ['a', 'b', 'c', 'd']\n",
    "        \n",
    "        # from 이상, to 끝까지, step_size=1\n",
    "        # lst[from_idx:]\n",
    "        >>> lst[1: ]\n",
    "        ['b', 'c', 'd', 'e']\n",
    "        \n",
    "        # lst 전체\n",
    "        # lst[:]\n",
    "        >>> lst[:]\n",
    "        ['a', 'b', 'c', 'd', 'e']\n",
    "        ```"
   ]
  },
  {
   "cell_type": "code",
   "execution_count": 14,
   "metadata": {},
   "outputs": [
    {
     "name": "stdout",
     "output_type": "stream",
     "text": [
      "lst1 = ['a', 'b', 'c'] , lst2 = [1, 2]\n",
      "lst1 + lst2 = ['a', 'b', 'c', 1, 2]\n",
      "lst1 * 3 = ['a', 'b', 'c', 'a', 'b', 'c', 'a', 'b', 'c']\n",
      "'a' in lst1 =  True\n",
      "['a', 'b'] in lst1 = False\n"
     ]
    }
   ],
   "source": [
    "# List +, *, membership 예제\n",
    "lst1 = ['a', 'b', 'c']\n",
    "lst2 = [1, 2]\n",
    "\n",
    "print('lst1 =', lst1, ', lst2 =', lst2)\n",
    "print('lst1 + lst2 =', lst1 + lst2)\n",
    "print('lst1 * 3 =', lst1 * 3)\n",
    "print(\"'a' in lst1 = \", 'a' in lst1)\n",
    "print(\"['a', 'b'] in lst1 =\", ['a', 'b'] in lst1)"
   ]
  },
  {
   "cell_type": "code",
   "execution_count": 7,
   "metadata": {},
   "outputs": [
    {
     "name": "stdout",
     "output_type": "stream",
     "text": [
      "['e', 'd', 'c', 'b', 'a']\n"
     ]
    }
   ],
   "source": [
    "# List slicing 예제 -- step_size = -1 일때, 거꾸로 방향으로 진행\n",
    "lst = ['a', 'b', 'c', 'd', 'e']\n",
    "print(lst[:: -1])"
   ]
  },
  {
   "cell_type": "markdown",
   "metadata": {},
   "source": [
    "## String 기타\n",
    "- `join()` 함수\n",
    "    - 형식: `separator.join(lst)`\n",
    "    - 실행: separator를 기준으로 lst 내 모든 원소들을 붙여 하나의 스트링을 만든다.\n",
    "    - 예)\n",
    "        ```python\n",
    "        >>> lst = ['a', 'b', 'c', 'd', 'e']\n",
    "        >>> '-'.join(lst)\n",
    "        'a-b-c-d-e'\n",
    "        ```\n",
    "- `replace()` 함수\n",
    "    - 형식: `sss.replace(from, to)`\n",
    "    - 실행: sss라는 스트링에서 from 부분을 죄다 to 부분으로 바꾼다.\n",
    "    - 예)\n",
    "        ```python\n",
    "        >>> sss = 'Love is an open door'\n",
    "        >>> sss.replace('an', 'AN')\n",
    "        'Love is AN open door'\n",
    "        >>> sss.replace('an', '')\n",
    "        'Love is  open door'\n",
    "        ```"
   ]
  },
  {
   "cell_type": "markdown",
   "metadata": {},
   "source": [
    "## List 기타\n",
    "- `insert()`\n",
    "    - 형식: `lst.insert(index, value)`\n",
    "    - 실행: lst안에 index위치에 있는 원소 앞에 새로운 값인 value를 넣음\n",
    "    - 예)\n",
    "        ```python\n",
    "        >>> lst = ['a', 'b', 'c']\n",
    "        >>> lst.insert(2, 'aaa')\n",
    "        >>> print(lst)\n",
    "        ['a', 'b', 'aaa', 'c']\n",
    "        ```\n",
    "\n",
    "\n",
    "- `remove()`\n",
    "    - 형식: `lst.remove(value)`\n",
    "    - 실행: lst안에서 최초로 등장하는 value를 제거\n",
    "    - 예)\n",
    "        ```python\n",
    "        >>> lst = ['a', 'b', 'aaa', 'c']\n",
    "        >>> lst.remove('aaa')\n",
    "        >>> print(lst)\n",
    "        ['a', 'b', 'c']\n",
    "        ```\n",
    "\n",
    "- `del`\n",
    "    - 형식: `del lst[index]`\n",
    "    - 실행: `lst[index]`를 제거 \n",
    "    - 예)\n",
    "        ```python\n",
    "        >>> lst = ['a', 'b', 'c']\n",
    "        >>> del lst[0]\n",
    "        >>> print(lst)\n",
    "        ['b', 'c']\n",
    "        ```\n",
    "    - 그러나 코드가 느려질 수 있으므로 비추 (garbage collector 자주 부르면 안좋다)\n"
   ]
  },
  {
   "cell_type": "markdown",
   "metadata": {},
   "source": [
    "## String formatting 1 - 기본\n",
    "- String formatting: 특정 형식의 스트링을 만드는 것을 말함.\n",
    "- 만드는 방법\n",
    "    - '스트링 패턴' % (패턴 내에 넣을 값들)\n",
    "    - '... 타입1 타입2 ...' % (값1, 값2, ...)\n",
    "- 패턴 내 데이터 타입 표시 (기본)\n",
    "    - %d: int\n",
    "    - %lf: float\n",
    "    - %s: str\n",
    "    - %r: bool\n",
    "- 패턴 내 데이터 타입 표시 (자릿수까지)\n",
    "    - %d\n",
    "        - %3d: 세 자리로 출력\n",
    "        - %03d: 세 자리로 출력하되, 빈 자리는 0으로 출력\n",
    "        - 예)\n",
    "            ```python\n",
    "            y, m, d = 2019, 8, 9\n",
    "            yymmdd = '%s-%02d-%02d' % (str(y)[-2:], m, d)\n",
    "            print(yymmdd)\n",
    "            ```\n",
    "            출력 결과\n",
    "            ```\n",
    "            '19-08-09'\n",
    "            ```\n",
    "    - %lf\n",
    "        - %.2lf: 소숫점 둘째자리까지 출력\n",
    "        - 예)\n",
    "            ```python\n",
    "            >>> import math\n",
    "            >>> 'Pi is %.2lf' % (math.pi)\n",
    "            'Pi is 3.14'\n",
    "            ```\n",
    "\n",
    "\n",
    "## String formatting 2 - 고급\n",
    "- 스트링 패턴 내 변수의 데이터 타입을 굳이 정하지 않고 싶을 때 사용\n",
    "- 만드는 방법\n",
    "    - '스트링 패턴'.format(패턴 내에 넣을 값들)\n",
    "    - '... {} {} ...'.format(값1, 값2, ...)\n",
    "    - {} 내에 값1,2, ... 이 순서대로 들어간다.\n",
    "- 예)\n",
    "    ```python\n",
    "    name = 'myfile'\n",
    "    extension = 'txt'\n",
    "    filename = '{}.{}'.format(name, extension)\n",
    "    print(filename)\n",
    "    ```\n",
    "    출력 결과\n",
    "    ```\n",
    "    myfile.txt\n",
    "    ```\n"
   ]
  },
  {
   "cell_type": "markdown",
   "metadata": {},
   "source": [
    "## Dict 딕셔너리\n",
    "- 검색을 위한 자료구조 / 검색이 엄청 빠름\n",
    "- (검색어: 값) 매핑을 저장한 자료구조\n",
    "    - 검색어는 key, 값은 value라고 부른다.\n",
    "- 만드는 방법\n",
    "    - 중괄호 {}로 묶어줌\n",
    "    - (key: value) 맵핑들을 쉼표(,)로 구분하여 나열\n",
    "    - 예)\n",
    "        ```python\n",
    "        profiles = {'철수': 1, '영희': 2, '영수': 3}\n",
    "        ```\n",
    "- 검색하기\n",
    "    - key를 대괄호 안에 넣어주면 해당 value가 나옴\n",
    "    - `딕셔너리[key]`\n",
    "    - 예)\n",
    "        ```python\n",
    "        age_of_chulsoo = profiles['철수']\n",
    "        print(age_of_chulsoo)\n",
    "        ```\n",
    "        출력 결과\n",
    "        ```\n",
    "        1\n",
    "        ```\n",
    "- 맵핑하기\n",
    "    - 기존 dictionary에 맵핑을 추가하거나 수정할 수 있다.\n",
    "    - `딕셔너리[key] = val`\n",
    "    - 예)\n",
    "        ```python\n",
    "        profiles['가나다'] = 4 # 맵핑 추가\n",
    "        profiles['철수'] = 5 # 기존 맵핑 수정\n",
    "        print(profiles)\n",
    "        ```\n",
    "        출력 결과\n",
    "        ```\n",
    "        {'가나다': 4, '영수': 3, '영희': 2, '철수': 5}\n",
    "        ```\n",
    "- key들 얻기\n",
    "    - `딕셔너리.keys()`\n",
    "    - 예1)\n",
    "        ```python\n",
    "        print(profiles.keys())\n",
    "        ```\n",
    "        출력 결과\n",
    "        ```\n",
    "        dict_keys(['가나다', '영수', '영희', '철수'])\n",
    "        ```\n",
    "    - 예2) 검색 전, key가 있는지 확인. (다른 언어에서는 contains 라는 함수가 따로 구현되어있음.)\n",
    "        ```python\n",
    "        my_keyword = '안녕'\n",
    "        if my_keyword in profiles.keys():\n",
    "            v = profiles[my_keyword]\n",
    "            print('%s: %s' % (my_keyword, v))\n",
    "        else:\n",
    "            print('ERR: no %s in the dictionary' % my_keyword)\n",
    "        ```\n",
    "        출력 결과\n",
    "        ```\n",
    "        ERR: no 안녕 in the dictionary\n",
    "        ```\n",
    "- value들 얻기\n",
    "    - `딕셔너리.values()`\n",
    "    - 예)\n",
    "        ```python\n",
    "        print(profiles.values())\n",
    "        ```\n",
    "        출력 결과\n",
    "        ```\n",
    "        dict_values([4, 3, 2, 5])\n",
    "        ```"
   ]
  },
  {
   "cell_type": "code",
   "execution_count": 25,
   "metadata": {},
   "outputs": [
    {
     "name": "stdout",
     "output_type": "stream",
     "text": [
      "2\n"
     ]
    }
   ],
   "source": [
    "# dictionary 예제 -- 검색 \n",
    "\n",
    "age_dict = {'cat': 1, 'dog': 3, 'bird': 2}\n",
    "print(age_dict['bird'])"
   ]
  },
  {
   "cell_type": "code",
   "execution_count": 26,
   "metadata": {},
   "outputs": [
    {
     "name": "stdout",
     "output_type": "stream",
     "text": [
      "{'cat': 1, 'dog': 3, 'bird': 5}\n"
     ]
    }
   ],
   "source": [
    "# dictionary 예제 -- 수정\n",
    "age_dict = {'cat': 1, 'dog': 3, 'bird': 2}\n",
    "age_dict['bird'] = 5\n",
    "print(age_dict)"
   ]
  },
  {
   "cell_type": "code",
   "execution_count": 27,
   "metadata": {},
   "outputs": [
    {
     "name": "stdout",
     "output_type": "stream",
     "text": [
      "{'cat': 1, 'dog': 3, 'bird': 5, 5: True}\n"
     ]
    }
   ],
   "source": [
    "# dictionary 예제 -- 삽입\n",
    "age_dict[5] = True\n",
    "print(age_dict)"
   ]
  },
  {
   "cell_type": "code",
   "execution_count": 28,
   "metadata": {},
   "outputs": [
    {
     "name": "stdout",
     "output_type": "stream",
     "text": [
      "False\n"
     ]
    }
   ],
   "source": [
    "# dictionary 예제 -- membership\n",
    "print('ppp' in age_dict)"
   ]
  },
  {
   "cell_type": "code",
   "execution_count": 32,
   "metadata": {},
   "outputs": [
    {
     "name": "stdout",
     "output_type": "stream",
     "text": [
      "dict_keys(['cat', 'dog', 'bird', 5])\n",
      "<class 'dict_keys'>\n",
      "['cat', 'dog', 'bird', 5]\n"
     ]
    }
   ],
   "source": [
    "# dictionary 예제 -- keys()\n",
    "print(age_dict.keys())\n",
    "print(type(age_dict.keys()))\n",
    "print(list(age_dict.keys()))"
   ]
  },
  {
   "cell_type": "code",
   "execution_count": 33,
   "metadata": {},
   "outputs": [
    {
     "name": "stdout",
     "output_type": "stream",
     "text": [
      "dict_values([1, 3, 5, True])\n",
      "<class 'dict_values'>\n",
      "[1, 3, 5, True]\n"
     ]
    }
   ],
   "source": [
    "# dictionary 예제 -- values()\n",
    "print(age_dict.values())\n",
    "print(type(age_dict.values()))\n",
    "print(list(age_dict.values()))"
   ]
  },
  {
   "cell_type": "markdown",
   "metadata": {},
   "source": [
    "## 함수\n",
    "- 함수 만들기 \n",
    "    - define 한다고 하기도 함\n",
    "    - 형식\n",
    "        ```python\n",
    "        def 함수이름(인풋1, 인풋2, ...):\n",
    "            어쩌고\n",
    "            저쩌고\n",
    "            ...\n",
    "            return 아웃풋1, 아웃풋2, 아웃풋3, ...\n",
    "        ```\n",
    "- 함수 사용하기\n",
    "    - call 한다고 하기도 함\n",
    "    - 형식\n",
    "        ```python\n",
    "        아웃풋1, 아웃풋2, 아웃풋3, ... = 함수이름(인풋1, 인풋2, ...)\n",
    "        ```\n",
    "- 예)\n",
    "    ```python\n",
    "    # Define\n",
    "    def sigma_sum(start, end):\n",
    "        s = 0\n",
    "        for n in range(start, end + 1):\n",
    "            s = s + n\n",
    "        return s\n",
    "\n",
    "    # Call\n",
    "    sum_1_to_10 = sigma_sum(1, 10)\n",
    "    print(sum_1_to_10)\n",
    "    ```\n",
    "    출력 결과\n",
    "    ```\n",
    "    55\n",
    "    ```"
   ]
  },
  {
   "cell_type": "markdown",
   "metadata": {},
   "source": [
    "## 다음시간\n",
    "- loop문 제어\n",
    "- 파일 읽고 쓰기\n",
    "- numpy\n",
    "- pandas"
   ]
  }
 ],
 "metadata": {
  "kernelspec": {
   "display_name": "Python 3",
   "language": "python",
   "name": "python3"
  },
  "language_info": {
   "codemirror_mode": {
    "name": "ipython",
    "version": 3
   },
   "file_extension": ".py",
   "mimetype": "text/x-python",
   "name": "python",
   "nbconvert_exporter": "python",
   "pygments_lexer": "ipython3",
   "version": "3.6.7"
  }
 },
 "nbformat": 4,
 "nbformat_minor": 2
}
