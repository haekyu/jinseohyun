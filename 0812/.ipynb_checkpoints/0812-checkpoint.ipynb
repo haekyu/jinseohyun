{
 "cells": [
  {
   "cell_type": "markdown",
   "metadata": {},
   "source": [
    "## Contents\n",
    "- loop문 제어\n",
    "    - break\n",
    "    - continue\n",
    "- 파일 읽고 쓰기\n",
    "    - 기본1\n",
    "    - 기본2\n",
    "    - pandas\n",
    "        - spread sheet\n",
    "    - numpy\n",
    "    \n",
    "    - 파일 경로\n",
    "        - 절대경로\n",
    "            - C:/Users/Seohyun/Desktop/sample.txt\n",
    "        - 상대경로\n",
    "            - . : 현재 위치\n",
    "            - ..: 상위 경로\n",
    "    \n",
    "- pandas\n",
    "- numpy"
   ]
  },
  {
   "cell_type": "code",
   "execution_count": 49,
   "metadata": {},
   "outputs": [
    {
     "name": "stdout",
     "output_type": "stream",
     "text": [
      "I will never be this young again. Ever. Oh damn I just got older.\n",
      "\n"
     ]
    }
   ],
   "source": [
    "# 절대경로\n",
    "f = open('/Users/haekyu/Downloads/jinseohyun/0812/data/documents.txt', 'r')\n",
    "lines = f.readlines()\n",
    "f.close()\n",
    "\n",
    "# 상대경로 \n",
    "\n",
    "# f = open(파일경로, 옵션)\n",
    "\n",
    "# - 'r'\n",
    "# - 'w'\n",
    "# - 'a'\n",
    "\n",
    "# ㅁㄴㅇㄹ\n",
    "# ㅁㄴㄹ\n",
    "# ㅁㄴㅇㄹ\n",
    "# ㄴㅁㄹ\n",
    "\n",
    "# f.close()"
   ]
  },
  {
   "cell_type": "code",
   "execution_count": 40,
   "metadata": {},
   "outputs": [
    {
     "name": "stdout",
     "output_type": "stream",
     "text": [
      "0\n",
      "1\n",
      "2\n",
      "3\n",
      "4\n",
      "6\n",
      "7\n",
      "8\n",
      "9\n"
     ]
    }
   ],
   "source": [
    "for i in range(10):\n",
    "    if i == 5:\n",
    "        continue\n",
    "    print(i)"
   ]
  },
  {
   "cell_type": "markdown",
   "metadata": {},
   "source": [
    "## TF-IDF\n",
    "- Dictionary\n",
    "- 파일 읽기"
   ]
  },
  {
   "cell_type": "markdown",
   "metadata": {},
   "source": [
    "## K-means clustering"
   ]
  },
  {
   "cell_type": "code",
   "execution_count": 27,
   "metadata": {},
   "outputs": [],
   "source": [
    "import numpy as np\n",
    "\n",
    "vectors = np.zeros((100, 2))\n",
    "for i in range(100):\n",
    "    vectors[i] = np.random.rand(2)\n",
    "\n",
    "np.savetxt('./data/sample_2d_vecs.csv', vectors, fmt='%.5lf', delimiter=',')"
   ]
  },
  {
   "cell_type": "code",
   "execution_count": 28,
   "metadata": {},
   "outputs": [
    {
     "data": {
      "image/png": "[encoded data removed]",
      "text/plain": [
       "<Figure size 432x288 with 1 Axes>"
      ]
     },
     "metadata": {
      "needs_background": "light"
     },
     "output_type": "display_data"
    }
   ],
   "source": [
    "import matplotlib.pyplot as plt\n",
    "plt.figure()\n",
    "plt.scatter(vectors[:, 0], vectors[:, 1])\n",
    "plt.show()"
   ]
  },
  {
   "cell_type": "code",
   "execution_count": 33,
   "metadata": {},
   "outputs": [],
   "source": [
    "k = 10\n",
    "\n",
    "centroids = np.random.randint(low=0, high=100, size=k)\n",
    "\n",
    "while True:\n",
    "    prev_centroids = centroids[:]\n",
    "    \n",
    "    centroids = []\n",
    "    for i in \n",
    "    \n",
    "\n",
    "    is_converged = True\n",
    "    for c1 in prev_centroids:\n",
    "        if c1 not in centroids:\n",
    "            is_converged = False\n",
    "            \n",
    "    if is_converged:\n",
    "        break"
   ]
  },
  {
   "cell_type": "code",
   "execution_count": 37,
   "metadata": {},
   "outputs": [
    {
     "name": "stdout",
     "output_type": "stream",
     "text": [
      "{'I': 1, 'am': 1, 'a': 2, 'boy': 1, 'you': 1, 'are': 1, 'girl': 1}\n"
     ]
    }
   ],
   "source": [
    "\n",
    "def word_freqs(sentence):\n",
    "\n",
    "    # sentence 를 띄어쓰기 단위로 나누어, \n",
    "    # words 라는 리스트에 저장한다.\n",
    "    words = sentence.split(' ')\n",
    "\n",
    "    # freq_dict 라는 새로운 dictionary를 만든다. 우리의 output이 될 것이다.\n",
    "    # - key: a word\n",
    "    # - val: # of the key in the sentence\n",
    "    freq_dict = dict()\n",
    "\n",
    "    # 각 word 를 살펴보면서 등장횟수를 count up 한다 (1씩 올려줌).\n",
    "    \n",
    "    for word in words:\n",
    "        # word 가 최초 등장\n",
    "        if word not in freq_dict:\n",
    "            freq_dict[word] = 1\n",
    "            \n",
    "        # word가 기존에 있었으면 count up\n",
    "        else:\n",
    "            freq_dict[word] = freq_dict[word] + 1\n",
    "\n",
    "    # freq_dict를 리턴한다.\n",
    "    return freq_dict\n",
    "\n",
    "s = \"I am a boy you are a girl\"\n",
    "freq_dict = word_freqs(s)\n",
    "print(freq_dict)"
   ]
  },
  {
   "cell_type": "code",
   "execution_count": null,
   "metadata": {},
   "outputs": [],
   "source": []
  },
  {
   "cell_type": "code",
   "execution_count": null,
   "metadata": {},
   "outputs": [],
   "source": []
  },
  {
   "cell_type": "code",
   "execution_count": null,
   "metadata": {},
   "outputs": [],
   "source": []
  },
  {
   "cell_type": "code",
   "execution_count": null,
   "metadata": {},
   "outputs": [],
   "source": []
  },
  {
   "cell_type": "code",
   "execution_count": null,
   "metadata": {},
   "outputs": [],
   "source": []
  },
  {
   "cell_type": "code",
   "execution_count": null,
   "metadata": {},
   "outputs": [],
   "source": []
  },
  {
   "cell_type": "code",
   "execution_count": null,
   "metadata": {},
   "outputs": [],
   "source": []
  },
  {
   "cell_type": "code",
   "execution_count": null,
   "metadata": {},
   "outputs": [],
   "source": []
  },
  {
   "cell_type": "code",
   "execution_count": null,
   "metadata": {},
   "outputs": [],
   "source": []
  },
  {
   "cell_type": "code",
   "execution_count": null,
   "metadata": {},
   "outputs": [],
   "source": []
  },
  {
   "cell_type": "code",
   "execution_count": null,
   "metadata": {},
   "outputs": [],
   "source": []
  },
  {
   "cell_type": "code",
   "execution_count": null,
   "metadata": {},
   "outputs": [],
   "source": []
  },
  {
   "cell_type": "code",
   "execution_count": null,
   "metadata": {},
   "outputs": [],
   "source": []
  },
  {
   "cell_type": "code",
   "execution_count": null,
   "metadata": {},
   "outputs": [],
   "source": []
  }
 ],
 "metadata": {
  "kernelspec": {
   "display_name": "Python 3",
   "language": "python",
   "name": "python3"
  },
  "language_info": {
   "codemirror_mode": {
    "name": "ipython",
    "version": 3
   },
   "file_extension": ".py",
   "mimetype": "text/x-python",
   "name": "python",
   "nbconvert_exporter": "python",
   "pygments_lexer": "ipython3",
   "version": "3.6.7"
  }
 },
 "nbformat": 4,
 "nbformat_minor": 2
}
