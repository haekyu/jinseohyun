{
 "cells": [
  {
   "cell_type": "markdown",
   "metadata": {},
   "source": [
    "## Contents\n",
    "- loop문 제어\n",
    "    - break\n",
    "    - continue\n",
    "- 파일 읽고 쓰기\n",
    "    - 기본1\n",
    "    - 기본2\n",
    "    - pandas\n",
    "    - numpy"
   ]
  },
  {
   "cell_type": "markdown",
   "metadata": {},
   "source": [
    "## Loop 문 제어\n",
    "- 중단\n",
    "    - break\n",
    "- skip\n",
    "    - continue"
   ]
  },
  {
   "cell_type": "code",
   "execution_count": 21,
   "metadata": {},
   "outputs": [
    {
     "name": "stdout",
     "output_type": "stream",
     "text": [
      "0\n",
      "1\n",
      "2\n"
     ]
    }
   ],
   "source": [
    "# break 예시\n",
    "for i in range(5):\n",
    "    if i == 3:\n",
    "        break\n",
    "    print(i)"
   ]
  },
  {
   "cell_type": "code",
   "execution_count": 22,
   "metadata": {},
   "outputs": [
    {
     "name": "stdout",
     "output_type": "stream",
     "text": [
      "0\n",
      "1\n",
      "2\n",
      "4\n"
     ]
    }
   ],
   "source": [
    "# continue 예시\n",
    "for i in range(5):\n",
    "    if i == 3:\n",
    "        continue\n",
    "    print(i)"
   ]
  },
  {
   "cell_type": "markdown",
   "metadata": {},
   "source": [
    "## 파일 읽고 쓰기\n",
    "- 종류\n",
    "    - 파일 객체 버전 \n",
    "    - pandas 버전\n",
    "    - numpy 버전\n",
    "    \n",
    "- 파일 객체\n",
    "    1. 파일 객체 만들기\n",
    "        ```python\n",
    "            # 파일을 열어 f라는 파일 객체를 만든다.\n",
    "            f = open(파일 경로, mode=...)\n",
    "        ```\n",
    "        - 파일 경로 \n",
    "            - 절대경로\n",
    "                - 서울특별시 관악구 신림동 서울대학교 ...\n",
    "                - 예) `/Users/haekyu/Downloads/jinseohyun/0812`\n",
    "            - 상대경로\n",
    "                - 내 위치에서 오른쪽으로 한 칸\n",
    "                - .: 현재 위치\n",
    "                - ..: 상위 경로\n",
    "                - 하위 경로는 이름을 그냥 쓰면 됨\n",
    "        - mode: \n",
    "            - 'r' : read\n",
    "            - 'w' : write\n",
    "            - 'a' : append\n",
    "    2. 파일 읽기 (mode='r' 인 경우)\n",
    "        - 한방에 읽어오기\n",
    "            - `readlines()` 함수 사용\n",
    "            - 예)\n",
    "                ```python\n",
    "                f = open('sample.txt', mode='r')\n",
    "                lst = f.readlines()\n",
    "                f.close()\n",
    "                ```\n",
    "        - 한 라인씩 읽어오기\n",
    "            - `readline()` 함수 사용\n",
    "            - EOF (End of file) 에 닿을 때까지 무한 루프로 읽음\n",
    "            - 예)\n",
    "                ```python\n",
    "                f = open('sample.txt', mode='r')\n",
    "                while True:\n",
    "                    line = f.readline()\n",
    "                    print(line)\n",
    "                    if line == '':\n",
    "                        break\n",
    "                f.close()\n",
    "                ```\n",
    "    3. 파일 쓰기 (mode='w' 혹은 mode='a' 인 경우)\n",
    "        - `write(원하는 스트링)` 함수 사용\n",
    "        - Newline(엔터) 를 넣고싶으면 '\\n' 을 추가\n",
    "        - 예)\n",
    "            ```python\n",
    "            f = open('sample.txt', mode='w')\n",
    "            f.write('A\\n')\n",
    "            f.write('B\\n')\n",
    "            f.write('C\\n')\n",
    "            f.write('D\\n')\n",
    "            f.write('E')\n",
    "            f.close()\n",
    "            ```\n",
    "    4. 파일 닫기\n",
    "        - `close()` 함수 사용\n",
    "        - 반드시 닫아줘야함!!!!! 안그러면 다른 프로세스가 해당 파일을 열 때 뭔가 꼬여버림.\n",
    "\n",
    "- pandas 를 통해 읽기/쓰기\n",
    "    - Column 별로 저장된 데이터를 읽고 쓸 때 pandas를 사용한다.\n",
    "    - `*.csv` 나 `*.tsv` 파일들을 읽을 때 주로 사용\n",
    "        - `*.csv`: comma separated values\n",
    "        - `*.tsv`: tab separated values\n",
    "    - pandas library를 import 해와야 함.\n",
    "        ```python\n",
    "        # pandas library를 가져와서 pd 라고 부른다\n",
    "        import pandas as pd\n",
    "        ```\n",
    "    - 파일 읽기: [pandas.read_csv](https://pandas.pydata.org/pandas-docs/stable/generated/pandas.read_csv.html) 함수 사용\n",
    "        - 텍스트 파일을 읽어서 DataFrame 형식으로 저장한다.\n",
    "            - DataFrame 이라는 data type이 따로 있음\n",
    "            - DataFrame 은 데이터를 행/렬로 구분한 2D table이라고 생각하면 됨 ([참고](http://pinkwink.kr/735))\n",
    "            - DataFrame 은 dictionray 비슷하게 구현되어있음.\n",
    "                - key: column 의 이름\n",
    "                - val: 해당 column의 data 들\n",
    "        - 대표적인 parameters\n",
    "            - filepath_or_buffer: path of file to read\n",
    "            - sep: separator, a string used to separate values\n",
    "            - names: list of column names to use\n",
    "                - ex) ['State', 'No. of Presidents']\n",
    "                - 만약 names가 주어지지 않으면, names는 자동으로 텍스트파일의 가장 첫 번째 row가 된다.\n",
    "            - dtype: Type name or dict of column -> type, default None\n",
    "        - 예) [./data/profile.csv](./data/profile.csv) 읽기\n",
    "            ```python\n",
    "            import pandas as pd\n",
    "            df = pd.read_csv('./data/profile.csv', sep=',')\n",
    "            print(df)\n",
    "            ```\n",
    "            출력 결과\n",
    "            ```\n",
    "                 name  age address\n",
    "            0    Kate   10     ABC\n",
    "            1  Robert   22     AAA\n",
    "            2     Tom   15     VVV\n",
    "            3   Chloe   21     VVV\n",
    "            ```\n",
    "        - column names 얻기\n",
    "            - `dataframe.columns` 를 통해 column 이름들을 얻을 수 있음.\n",
    "            - 예)\n",
    "                ```python\n",
    "                names = df.columns\n",
    "                print(names)\n",
    "\n",
    "                name_lst = list(names)\n",
    "                print(name_lst)\n",
    "                ```\n",
    "                출력 결과\n",
    "                ```\n",
    "                Index(['name', 'age', 'address'], dtype='object')\n",
    "                ['name', 'age', 'address']\n",
    "                ```\n",
    "        - cf) [pandas.read_excel](https://pandas.pydata.org/pandas-docs/version/0.20/generated/pandas.read_excel.html) 함수: Excel 파일을 읽어 DataFrame으로 저장하기\n",
    "    - 파일 쓰기: [pandas.DataFrame.to_csv](http://pandas.pydata.org/pandas-docs/version/0.23/generated/pandas.DataFrame.to_csv.html) 사용\n",
    "        - DataFrame 을 파일로 저장\n",
    "        - 대표적인 parameters\n",
    "            - path_or_buf: 저장할 파일 경로\n",
    "            - sep: separator\n",
    "        - 예)\n",
    "            ```python\n",
    "            df.to_csv('./data/profile.tsv', sep='\\t')\n",
    "            ```\n",
    "            ['./data/profile.tsv]('./data/profile.tsv) 를 열어보면 아래와 같다. 값들이 tab으로 구분되어있음\n",
    "            ```\n",
    "            \tname\tage\taddress\n",
    "            0\tKate\t10\tABC\n",
    "            1\tRobert\t22\tAAA\n",
    "            2\tTom\t15\tVVV\n",
    "            3\tChloe\t21\tVVV\n",
    "\n",
    "            ```\n",
    "- numpy 를 통해 읽기/쓰기\n",
    "    - 숫자 자체를 읽어올 때 numpy 사용\n",
    "        - ex) matrix를 읽어올 때\n",
    "    - numpy library를 import 해와야 함\n",
    "        ```python\n",
    "        # numpy library를 가져와서 np 라고 부른다\n",
    "        import numpy as np\n",
    "        ```\n",
    "    - 파일 읽기: [numpy.loadtxt](https://docs.scipy.org/doc/numpy-1.14.0/reference/generated/numpy.loadtxt.html) 함수 사용\n",
    "        - text 파일을 읽어와서 array로 리턴한다.\n",
    "        - 대표적인 parameters\n",
    "            - fname: name/path of a text file\n",
    "            - dtype: data type\n",
    "            - delimiter: a string used to separate values\n",
    "        - return data read from the text file\n",
    "        - 예)\n",
    "            ```python\n",
    "            import numpy as np\n",
    "            mat = np.loadtxt('./sample-mat.txt', dtype=int, delimiter=' ')\n",
    "            print(mat)\n",
    "            ```\n",
    "            출력 결과\n",
    "            ```\n",
    "            [[-1  2  1]\n",
    "             [ 5  2 -1]\n",
    "             [ 3  2  1]]\n",
    "            ```\n",
    "    - 파일 쓰기: [numpy.savetxt](https://docs.scipy.org/doc/numpy-1.14.0/reference/generated/numpy.savetxt.html) 함수 사용\n",
    "        - array_like (numpy array, list, tuple, ...) data를 text file로 저장한다.\n",
    "        - 대표적인 parameters\n",
    "            - fname: name/path of a text file\n",
    "            - X: array_like data to be saved to the text file\n",
    "            - fmt: format of values. ex) '%d', '%.2lf', ...\n",
    "            - delimiter: a string used to separate values\n",
    "        - does not return anything (return None)\n",
    "        - 예)\n",
    "            ```python\n",
    "            # Import numpy and say it as np\n",
    "            import numpy as np\n",
    "\n",
    "            # Read sample-mat.txt\n",
    "            mat = np.loadtxt('./data/sample-mat.txt', dtype=int, delimiter=' ')\n",
    "            \n",
    "            # Make transpose of mat\n",
    "            trans_mat = mat.T\n",
    "\n",
    "            # Save trans_mat\n",
    "            np.savetxt('./data/sample-transpose-mat.txt', trans_mat, fmt='%d', delimiter=' ')\n",
    "            ```\n",
    "            ['./data/sample-transpose-mat.txt'](./data/sample-transpose-mat.txt) 를 열어보면 아래와 같다.\n",
    "            ```\n",
    "            -1 5 3\n",
    "            2 2 2\n",
    "            1 -1 1\n",
    "            ```"
   ]
  },
  {
   "cell_type": "code",
   "execution_count": 16,
   "metadata": {},
   "outputs": [
    {
     "name": "stdout",
     "output_type": "stream",
     "text": [
      "     name  age address\n",
      "0    Kate   10     ABC\n",
      "1  Robert   22     AAA\n",
      "2     Tom   15     VVV\n",
      "3   Chloe   21     VVV\n"
     ]
    }
   ],
   "source": [
    "## Pandas 예시 -- read_csv()\n",
    "\n",
    "import pandas as pd\n",
    "\n",
    "path = './data/profile.csv'\n",
    "df = pd.read_csv(path)\n",
    "print(df)"
   ]
  },
  {
   "cell_type": "code",
   "execution_count": 17,
   "metadata": {},
   "outputs": [
    {
     "name": "stdout",
     "output_type": "stream",
     "text": [
      "0      Kate\n",
      "1    Robert\n",
      "2       Tom\n",
      "3     Chloe\n",
      "Name: name, dtype: object\n"
     ]
    }
   ],
   "source": [
    "# Pandas 예시 -- column 가져오기\n",
    "print(df['name'])"
   ]
  },
  {
   "cell_type": "code",
   "execution_count": 18,
   "metadata": {},
   "outputs": [
    {
     "name": "stdout",
     "output_type": "stream",
     "text": [
      "Robert\n"
     ]
    }
   ],
   "source": [
    "# Pandas 예시 -- 값 가져오기\n",
    "print(df['name'][1])"
   ]
  },
  {
   "cell_type": "code",
   "execution_count": 19,
   "metadata": {},
   "outputs": [
    {
     "name": "stdout",
     "output_type": "stream",
     "text": [
      "before df:\n",
      "     name  age address\n",
      "0    Kate   10     ABC\n",
      "1  Robert   22     AAA\n",
      "2     Tom   15     VVV\n",
      "3   Chloe   21     VVV\n",
      "\n",
      "after df:\n",
      "     name  age address\n",
      "0    Kate   10     ABC\n",
      "1  ROBERT   22     AAA\n",
      "2     Tom   15     VVV\n",
      "3   Chloe   21     VVV\n"
     ]
    },
    {
     "name": "stderr",
     "output_type": "stream",
     "text": [
      "/anaconda3/lib/python3.6/site-packages/ipykernel_launcher.py:6: SettingWithCopyWarning: \n",
      "A value is trying to be set on a copy of a slice from a DataFrame\n",
      "\n",
      "See the caveats in the documentation: http://pandas.pydata.org/pandas-docs/stable/indexing.html#indexing-view-versus-copy\n",
      "  \n"
     ]
    }
   ],
   "source": [
    "# Pandas 예시 -- 값 수정하기\n",
    "\n",
    "print('before df:')\n",
    "print(df)\n",
    "\n",
    "df['name'][1] = 'ROBERT'\n",
    "\n",
    "print('\\nafter df:')\n",
    "print(df)"
   ]
  },
  {
   "cell_type": "code",
   "execution_count": 11,
   "metadata": {},
   "outputs": [
    {
     "name": "stdout",
     "output_type": "stream",
     "text": [
      "     name  age\n",
      "0    Kate   10\n",
      "1  Robert   22\n",
      "2     Tom   15\n",
      "3   Chole   21\n"
     ]
    }
   ],
   "source": [
    "# Pandas 예시 -- pandas.DataFrame 만들기 (from dictionary)\n",
    "\n",
    "df2 = pd.DataFrame(\n",
    "    {\n",
    "     'name': ['Kate', 'Robert', 'Tom', 'Chole'],\n",
    "     'age': [10, 22, 15, 21]\n",
    "    }\n",
    ")\n",
    "\n",
    "print(df2)"
   ]
  },
  {
   "cell_type": "code",
   "execution_count": 20,
   "metadata": {},
   "outputs": [],
   "source": [
    "# Pandas 예시 -- pandas.DataFrame.to_csv()\n",
    "df2.to_csv('./data/df2.csv')"
   ]
  },
  {
   "cell_type": "markdown",
   "metadata": {},
   "source": [
    "## Pandas의 Data Frame\n",
    "- DataFrame 이란 panel data를 표현하는 데이터 타입이다.\n",
    "    - Panel data: spreadsheets에서 잘 표현되는 table 형식의 데이터\n",
    "    - cf) Data Frame은 Pandas라는 라이브러리를 사용해야 하는데, Pandas가 Pan(el) Da(ta) 의 줄임말이라고 한다.\n",
    "    - `import pandas as pd`\n",
    "- Data frame 만들기\n",
    "    - Empty data frame 만들기\n",
    "        - 예)\n",
    "            ```python\n",
    "            import pandas as pd\n",
    "            my_empty_df = pd.DataFrame()\n",
    "            ```\n",
    "    - 기존 data frame에 컬럼 추가하기\n",
    "        - `데이터프레임[컬럼명] = 컬럼 데이터`\n",
    "        - 예)\n",
    "            ```python\n",
    "            import pandas as pd\n",
    "\n",
    "            # Empty data frame\n",
    "            profile_df = pd.DataFrame()\n",
    "\n",
    "            # Add name column\n",
    "            profile_df['name'] = ['chul', 'young', 'soo']\n",
    "\n",
    "            # Add age column\n",
    "            profile_df['age'] = [1, 2, 3]\n",
    "\n",
    "            # Add addr column\n",
    "            profile_df['addr'] = ['Busan', 'Incheon', 'Seoul']\n",
    "\n",
    "            print(profile_df)\n",
    "            ```\n",
    "            출력 결과\n",
    "            ```\n",
    "                name  age     addr\n",
    "            0   chul    1    Busan\n",
    "            1  young    2  Incheon\n",
    "            2    soo    3    Seoul\n",
    "            ```\n",
    "    - Dictionary를 통해 만들기\n",
    "        - key는 컬럼명이고, value는 해당 컬럼의 벡터이다.\n",
    "        - 예)\n",
    "            ```python\n",
    "            d = {'name': ['chul', 'young', 'soo'],\n",
    "                 'age': [1, 2, 3],\n",
    "                 'addr': ['Busan', 'Incheon', 'Seoul']}\n",
    "\n",
    "            # Dictionary를 DataFrame으로 형변환\n",
    "            profile_df = pd.DataFrame(d)\n",
    "\n",
    "            print(profile_df)\n",
    "            ```\n",
    "            출력 결과\n",
    "            ```\n",
    "                name  age     addr\n",
    "            0   chul    1    Busan\n",
    "            1  young    2  Incheon\n",
    "            2    soo    3    Seoul\n",
    "            ```"
   ]
  },
  {
   "cell_type": "markdown",
   "metadata": {},
   "source": [
    "## Numpy\n",
    "- Numpy는 Numeric object을 만들어 활용하는 패키지\n",
    "- 필요한 기능이 있을 때마다 구글을 검색하시면 좋아요!\n",
    "- Numpy array 만들기\n",
    "    - `np.zeros(shape)`: shape 모양의 0으로 채워진 array를 생성\n",
    "    - `np.ones(shape)`: shape 모양의 1로 채워진 array를 생성\n",
    "    - `np.random.rand(shape)`: shape 모양의 0~1 사이의 랜덤숫자로 채워진 array를 생성\n",
    "    - `np.array(어떤 list)`: list를 numpy array로 형변환\n",
    "    - 예)\n",
    "        ```python\n",
    "        >>> np.zeros(3)\n",
    "        array([ 0.,  0.,  0.])\n",
    "\n",
    "        >>> np.zeros((2, 3))\n",
    "        array([[ 0.,  0.,  0.],\n",
    "               [ 0.,  0.,  0.]])\n",
    "        ```\n",
    "- array 계산 (numeric 계산)\n",
    "    - 사칙 연산 가능\n",
    "        - 예)\n",
    "            ```python\n",
    "            # v1과 v2 정의\n",
    "            >>> v1 = np.array([1, 2, 3])\n",
    "            >>> v2 = np.array([-3, -2, -1])\n",
    "\n",
    "            # vector와 scalar의 계산\n",
    "            >>> v1 + 1\n",
    "            array([2, 3, 4])\n",
    "            >>> v1 * 0.5\n",
    "            array([ 0.5,  1. ,  1.5])\n",
    "\n",
    "            # vector와 vector의 계산\n",
    "            >>> v1 + v2\n",
    "            array([-2,  0,  2])\n",
    "            ```\n",
    "    - dot product (내적)\n",
    "        - `v1.dot(v2)`\n",
    "        - 예)\n",
    "            ```python\n",
    "            # v1과 v2 정의\n",
    "            >>> v1 = np.array([1, 2, 3])\n",
    "            >>> v2 = np.array([-3, -2, -1])\n",
    "\n",
    "            # v1과 v2의 내적\n",
    "            >>> v1.dot(v2)\n",
    "            -10\n",
    "            ```\n",
    "    - array들의 곱하기\n",
    "        - `np.matmul(arr1, arr2)`\n",
    "        - 두 array의 곱은 행렬곱이 될 수도 있고 벡터의 내적이 될 수도 있음."
   ]
  },
  {
   "cell_type": "code",
   "execution_count": 25,
   "metadata": {},
   "outputs": [
    {
     "name": "stdout",
     "output_type": "stream",
     "text": [
      "[0. 0. 0. 0.]\n",
      "\n",
      "[[0. 0. 0.]\n",
      " [0. 0. 0.]]\n"
     ]
    }
   ],
   "source": [
    "# numpy 예시 -- np.zeros()\n",
    "import numpy as np\n",
    "\n",
    "vec1 = np.zeros(4)\n",
    "mat1 = np.zeros((2, 3))\n",
    "\n",
    "print(vec1)\n",
    "print()\n",
    "print(mat1)"
   ]
  },
  {
   "cell_type": "code",
   "execution_count": 27,
   "metadata": {},
   "outputs": [
    {
     "name": "stdout",
     "output_type": "stream",
     "text": [
      "[[1. 1. 1.]\n",
      " [1. 1. 1.]]\n",
      "\n",
      "[[1. 1. 1.]\n",
      " [1. 1. 1.]]\n"
     ]
    }
   ],
   "source": [
    "# numpy 예시 -- np.ones()\n",
    "m1 = np.ones((2, 3))\n",
    "m2 = np.ones((2, 3))\n",
    "\n",
    "print(m1)\n",
    "print()\n",
    "print(m2)"
   ]
  },
  {
   "cell_type": "code",
   "execution_count": 29,
   "metadata": {},
   "outputs": [
    {
     "name": "stdout",
     "output_type": "stream",
     "text": [
      "[[2. 2. 2.]\n",
      " [2. 2. 2.]]\n",
      "\n",
      "[[0. 0. 0.]\n",
      " [0. 0. 0.]]\n"
     ]
    }
   ],
   "source": [
    "# numpy 예시 -- +, - 연산\n",
    "m3 = m1 + m2\n",
    "m4 = m1 - m2\n",
    "\n",
    "print(m3)\n",
    "print()\n",
    "print(m4)"
   ]
  },
  {
   "cell_type": "code",
   "execution_count": 32,
   "metadata": {},
   "outputs": [
    {
     "name": "stdout",
     "output_type": "stream",
     "text": [
      "before transpose\n",
      "[[1. 1. 1.]\n",
      " [1. 1. 1.]]\n",
      "\n",
      "after transpose\n",
      "[[1. 1.]\n",
      " [1. 1.]\n",
      " [1. 1.]]\n"
     ]
    }
   ],
   "source": [
    "# numpy 예시 -- transpose\n",
    "m4 = m2.T # (3, 2)\n",
    "\n",
    "print('before transpose')\n",
    "print(m2)\n",
    "print('\\nafter transpose')\n",
    "print(m4)"
   ]
  },
  {
   "cell_type": "code",
   "execution_count": 42,
   "metadata": {},
   "outputs": [
    {
     "name": "stdout",
     "output_type": "stream",
     "text": [
      "[[3. 3.]\n",
      " [3. 3.]]\n",
      "\n",
      "[[3. 3.]\n",
      " [3. 3.]]\n"
     ]
    }
   ],
   "source": [
    "# numpy 예시 -- matrix multiplication\n",
    "m5 = np.matmul(m2, m4) # (2, 3) * (3, 2) ==> (2, 2)\n",
    "m6 = m2.dot(m4) # (2, 3) * (3, 2) ==> (2, 2)\n",
    "\n",
    "print(m5)\n",
    "print()\n",
    "print(m6)"
   ]
  },
  {
   "cell_type": "code",
   "execution_count": 46,
   "metadata": {},
   "outputs": [
    {
     "name": "stdout",
     "output_type": "stream",
     "text": [
      "y\n",
      "[[3.41670923 1.0690695 ]\n",
      " [9.75275339 9.80080804]\n",
      " [4.72243395 3.66382891]]\n",
      "\n",
      "y + 1\n",
      "[[ 4.41670923  2.0690695 ]\n",
      " [10.75275339 10.80080804]\n",
      " [ 5.72243395  4.66382891]]\n",
      "\n",
      "y ** 2\n",
      "[[11.67390193  1.1429096 ]\n",
      " [95.11619876 96.05583825]\n",
      " [22.30138238 13.42364228]]\n"
     ]
    }
   ],
   "source": [
    "# numpy 예시 -- elementwise 연산\n",
    "y = 10 * np.random.rand(3, 2) \n",
    "\n",
    "print('y')\n",
    "print(y)\n",
    "\n",
    "print('\\ny + 1')\n",
    "print(y + 1)\n",
    "\n",
    "print('\\ny ** 2')\n",
    "print(y ** 2)"
   ]
  },
  {
   "cell_type": "code",
   "execution_count": 52,
   "metadata": {},
   "outputs": [
    {
     "name": "stdout",
     "output_type": "stream",
     "text": [
      "list 버전 matrix indexing: mat[row][col]\n",
      "[[1, 2, 3], [4, 5, 6]]\n",
      "mat_lst[1][2]: 6\n",
      "\n",
      "np.array 버전 matrix indexing: mat[row, col]\n",
      "[[1 2 3]\n",
      " [4 5 6]]\n",
      "mat_lst[1, 2]: 6\n"
     ]
    }
   ],
   "source": [
    "# numpy 예시 -- indexing\n",
    "\n",
    "print('list 버전 matrix indexing: mat[row][col]')\n",
    "mat_lst = [[1, 2, 3], [4, 5, 6]]\n",
    "val = mat_lst[1][2]\n",
    "print(mat_lst)\n",
    "print('mat_lst[1][2]:', val)\n",
    "\n",
    "print()\n",
    "print('np.array 버전 matrix indexing: mat[row, col]')\n",
    "mat_arr = np.array(mat_lst)\n",
    "val = mat_arr[1, 2]\n",
    "print(mat_arr)\n",
    "print('mat_lst[1, 2]:', val)"
   ]
  },
  {
   "cell_type": "markdown",
   "metadata": {},
   "source": [
    "## Git\n",
    "+ Why Git?\n",
    "    - 코드의 version 관리\n",
    "        - 매 수정마다 screenshot(commit) 을 남김\n",
    "    - 협업 용이\n",
    "        - 여러 사람들의 수정이 동시에 반영이 가능\n",
    "        - 다른 사람들이 어떻게 수정했는지 볼 수 있음\n",
    "+ 다운로드\n",
    "    - Git bash\n",
    "        - Windows 용: https://git-scm.com/download/win 에서 다운로드\n",
    "        - 설치 후 Git bash 가 잘 실행되는지 체크\n",
    "        - bash 를 사용하실 경우 아래에 있는 linux 커맨드를 일부 알아야합니다\n",
    "    - Git GUI\n",
    "        - https://git-scm.com/download/gui/windows\n",
    "+ 용어\n",
    "    - Local\n",
    "        - 내 컴퓨터\n",
    "        - client 느낌. Git server와 통신(?) 하는 내 컴퓨터\n",
    "    - Repository\n",
    "        - server 느낌. Git server의 코드 저장소\n",
    "    - Clone\n",
    "        - Git server의 repository 를 local로 복사해오는 행위\n",
    "    - Commit\n",
    "        - Git 에서의 screenshot\n",
    "    - Push\n",
    "        - Local 에서 Git repository로 정보를 전달하는 행위\n",
    "    - Pull \n",
    "        - Git repository의 정보를 Local로 가져오는 행위 \n",
    "+ 간단한 사용방법 (bash 사용방법)\n",
    "    - local과 repository를 연동시키기\n",
    "        - `git clone 레포지토리주소`\n",
    "            - 레포지토리 주소는 각 레포지토리 홈화면에서 Clone or download 버튼을 누르면 나옴.\n",
    "    - 파일 추가\n",
    "        - add\n",
    "            - `git add 추가할 파일 이름`\n",
    "            - git add . 하면 모든 수정된 파일이 add 됨.\n",
    "        - commit\n",
    "            - `git commit -m \"commit 메세지\"`\n",
    "        - push\n",
    "            - `git push`\n",
    "    - 파일 받아오기\n",
    "        - `git pull`"
   ]
  },
  {
   "cell_type": "markdown",
   "metadata": {},
   "source": [
    "## Linux command\n",
    "- 혹시나 git bash 를 사용하시게 되면 linux command를 일부 알아야합니다!\n",
    "- `clear`\n",
    "    - 화면 정리.\n",
    "- `ls`\n",
    "    - list의 줄임말. 현재 위치의 file list를 보여줌.\n",
    "    - 옵션\n",
    "        - `ls -a`\n",
    "            - list all. 숨김파일까지 보여줌\n",
    "        - `ls -l`\n",
    "            - 만들어진 날짜 / 파일 크기 등 기타 정보도 보여줌. \n",
    "        - `ls -t`\n",
    "            - 시간순 배열\n",
    "        - `ls -alt` 등으로 여러 옵션을 한꺼번에 줄 수 있다.\n",
    "- `cd`\n",
    "    - change directory. 내가 원하는 디렉토리로 이동\n",
    "    - `cd 내가_이동하고_싶은_디렉토리_경로`\n",
    "        - ex) `cd ~/Desktop` 하면 바탕화면으로 이동\n",
    "    - cf) ~ 은 홈 화면을 의미. 윈도우에서는 `C:/Users/내 이름/` 이었던 것으로 기억하는데 잘은 모르겠습니다.\n",
    "- `mkdir`\n",
    "    - make directory. 디렉토리 생성\n",
    "    - mkdir 원하는_디렉토리_이름\n",
    "- `cp`\n",
    "    - copy. 파일 복사\n",
    "    - `cp from_path to_path`\n",
    "        - ex) `cp love.txt ../love2.txt` 하면 현재 디렉토리의 love.txt를 상위 폴더의 love2.txt로 복사\n",
    "    - 옵션\n",
    "        - `cp -r from_path to_path`\n",
    "            - 디렉토리 복사\n",
    "            - 디렉토리를 복사하고싶으면 반드시 -r 옵션을 줘야 함.\n",
    "- `mv`\n",
    "    - move. 파일/디렉토리 이동 \n",
    "    - move from to\n",
    "- `rm`\n",
    "    - remove\n",
    "    - rm 파일이름\n",
    "    - 옵션\n",
    "        - `rm -r 디렉토리`\n",
    "            - 디렉토리 제거\n",
    "        - `rm -i 파일`\n",
    "            - 파일 삭제하기 전에 정말 삭제할 거냐고 yes or no 물어봄.\n",
    "            - 우리는 alias를 통해 rm 을 하면 항상 rm -i가 실행되게끔 만들어 놓음.\n",
    "\n",
    "## Shell\n",
    "- Linux 느낌의 까만 화면! (그러한 프로세스)\n",
    "- bash 설정 등등\n",
    "    - `~/.bash_profile` 에서 설정\n",
    "    - `source ~/.bash_profile` 로 설정한 것들 컴퓨터에 적용\n",
    "    - 구글에 bash_profile 환경 설정 검색하면 예쁜 설정 많음"
   ]
  },
  {
   "cell_type": "markdown",
   "metadata": {},
   "source": [
    "## TF-IDF\n",
    "- Dictionary\n",
    "- 파일 읽기"
   ]
  },
  {
   "cell_type": "markdown",
   "metadata": {},
   "source": [
    "## K-means clustering"
   ]
  },
  {
   "cell_type": "code",
   "execution_count": 27,
   "metadata": {},
   "outputs": [],
   "source": [
    "import numpy as np\n",
    "\n",
    "vectors = np.zeros((100, 2))\n",
    "for i in range(100):\n",
    "    vectors[i] = np.random.rand(2)\n",
    "\n",
    "np.savetxt('./data/sample_2d_vecs.csv', vectors, fmt='%.5lf', delimiter=',')"
   ]
  },
  {
   "cell_type": "code",
   "execution_count": 28,
   "metadata": {},
   "outputs": [
    {
     "data": {
      "image/png": "[encoded data removed]",
      "text/plain": [
       "<Figure size 432x288 with 1 Axes>"
      ]
     },
     "metadata": {
      "needs_background": "light"
     },
     "output_type": "display_data"
    }
   ],
   "source": [
    "import matplotlib.pyplot as plt\n",
    "plt.figure()\n",
    "plt.scatter(vectors[:, 0], vectors[:, 1])\n",
    "plt.show()"
   ]
  },
  {
   "cell_type": "code",
   "execution_count": 100,
   "metadata": {},
   "outputs": [
    {
     "ename": "SyntaxError",
     "evalue": "invalid syntax (<ipython-input-100-abc09d424f67>, line 1)",
     "output_type": "error",
     "traceback": [
      "\u001b[0;36m  File \u001b[0;32m\"<ipython-input-100-abc09d424f67>\"\u001b[0;36m, line \u001b[0;32m1\u001b[0m\n\u001b[0;31m    k = ???\u001b[0m\n\u001b[0m        ^\u001b[0m\n\u001b[0;31mSyntaxError\u001b[0m\u001b[0;31m:\u001b[0m invalid syntax\n"
     ]
    }
   ],
   "source": [
    "k = ???\n",
    "\n",
    "# center rand initialization\n",
    "curr_centers = ??\n",
    "curr_groups = {} # key = center, values = [, ,. , , , ,]\n",
    "\n",
    "# iteration\n",
    "while True:\n",
    "    \n",
    "    # 이전 센터들 // list // np.array()\n",
    "    # element == index\n",
    "    prev_centers = curr_centers[:]\n",
    "    prev_groups = curr_groups\n",
    "    \n",
    "    ## center update\n",
    "    for center in prev_centers:\n",
    "        \n",
    "#     for 모든 그룹에 대해서, prev_centers를 기준으로 한:\n",
    "#         curr_centers 업데이트\n",
    "    \n",
    "    # 현재 센터들 // list // np.array()\n",
    "#     curr_centers = ???\n",
    "    \n",
    "    # center 수렴 여부\n",
    "    prev_centers과 현재 curr_centes가 같은지\n",
    "    \n",
    "    # 수렴을 하면\n",
    "    if center 수렴:\n",
    "        break"
   ]
  },
  {
   "cell_type": "code",
   "execution_count": 33,
   "metadata": {},
   "outputs": [],
   "source": [
    "k = 10\n",
    "\n",
    "centroids = np.random.randint(low=0, high=100, size=k)\n",
    "\n",
    "while True:\n",
    "    prev_centroids = centroids[:]\n",
    "    \n",
    "    centroids = []\n",
    "    for i in \n",
    "    \n",
    "\n",
    "    is_converged = True\n",
    "    for c1 in prev_centroids:\n",
    "        if c1 not in centroids:\n",
    "            is_converged = False\n",
    "            \n",
    "    if is_converged:\n",
    "        break"
   ]
  },
  {
   "cell_type": "code",
   "execution_count": 37,
   "metadata": {},
   "outputs": [
    {
     "name": "stdout",
     "output_type": "stream",
     "text": [
      "{'I': 1, 'am': 1, 'a': 2, 'boy': 1, 'you': 1, 'are': 1, 'girl': 1}\n"
     ]
    }
   ],
   "source": [
    "\n",
    "def word_freqs(sentence):\n",
    "\n",
    "    # sentence 를 띄어쓰기 단위로 나누어, \n",
    "    # words 라는 리스트에 저장한다.\n",
    "    words = sentence.split(' ')\n",
    "\n",
    "    # freq_dict 라는 새로운 dictionary를 만든다. 우리의 output이 될 것이다.\n",
    "    # - key: a word\n",
    "    # - val: # of the key in the sentence\n",
    "    freq_dict = dict()\n",
    "\n",
    "    # 각 word 를 살펴보면서 등장횟수를 count up 한다 (1씩 올려줌).\n",
    "    \n",
    "    for word in words:\n",
    "        # word 가 최초 등장\n",
    "        if word not in freq_dict:\n",
    "            freq_dict[word] = 1\n",
    "            \n",
    "        # word가 기존에 있었으면 count up\n",
    "        else:\n",
    "            freq_dict[word] = freq_dict[word] + 1\n",
    "\n",
    "    # freq_dict를 리턴한다.\n",
    "    return freq_dict\n",
    "\n",
    "s = \"I am a boy you are a girl\"\n",
    "freq_dict = word_freqs(s)\n",
    "print(freq_dict)"
   ]
  },
  {
   "cell_type": "code",
   "execution_count": null,
   "metadata": {},
   "outputs": [],
   "source": []
  },
  {
   "cell_type": "code",
   "execution_count": null,
   "metadata": {},
   "outputs": [],
   "source": []
  },
  {
   "cell_type": "code",
   "execution_count": null,
   "metadata": {},
   "outputs": [],
   "source": []
  },
  {
   "cell_type": "code",
   "execution_count": null,
   "metadata": {},
   "outputs": [],
   "source": []
  },
  {
   "cell_type": "code",
   "execution_count": null,
   "metadata": {},
   "outputs": [],
   "source": []
  },
  {
   "cell_type": "code",
   "execution_count": null,
   "metadata": {},
   "outputs": [],
   "source": []
  },
  {
   "cell_type": "code",
   "execution_count": null,
   "metadata": {},
   "outputs": [],
   "source": []
  },
  {
   "cell_type": "code",
   "execution_count": null,
   "metadata": {},
   "outputs": [],
   "source": []
  },
  {
   "cell_type": "code",
   "execution_count": null,
   "metadata": {},
   "outputs": [],
   "source": []
  },
  {
   "cell_type": "code",
   "execution_count": null,
   "metadata": {},
   "outputs": [],
   "source": []
  },
  {
   "cell_type": "code",
   "execution_count": null,
   "metadata": {},
   "outputs": [],
   "source": []
  },
  {
   "cell_type": "code",
   "execution_count": null,
   "metadata": {},
   "outputs": [],
   "source": []
  },
  {
   "cell_type": "code",
   "execution_count": null,
   "metadata": {},
   "outputs": [],
   "source": []
  },
  {
   "cell_type": "code",
   "execution_count": null,
   "metadata": {},
   "outputs": [],
   "source": []
  }
 ],
 "metadata": {
  "kernelspec": {
   "display_name": "Python 3",
   "language": "python",
   "name": "python3"
  },
  "language_info": {
   "codemirror_mode": {
    "name": "ipython",
    "version": 3
   },
   "file_extension": ".py",
   "mimetype": "text/x-python",
   "name": "python",
   "nbconvert_exporter": "python",
   "pygments_lexer": "ipython3",
   "version": "3.6.7"
  }
 },
 "nbformat": 4,
 "nbformat_minor": 2
}
