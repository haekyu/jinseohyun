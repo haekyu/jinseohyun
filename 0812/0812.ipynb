{
 "cells": [
  {
   "cell_type": "markdown",
   "metadata": {},
   "source": [
    "## Contents\n",
    "- loop문 제어\n",
    "    - break\n",
    "    - continue\n",
    "- 파일 읽고 쓰기\n",
    "    - 기본1 파일 객체 생성\n",
    "        ```python\n",
    "        f = open(path, option)\n",
    "        \n",
    "        lines = f.readlines()\n",
    "        \n",
    "        f.close()\n",
    "        ```\n",
    "        \n",
    "        - option \n",
    "            - 'r'\n",
    "            - 'w'\n",
    "            - 'a'\n",
    "    - 기본2\n",
    "        ```python\n",
    "        with open(path, option) as f:\n",
    "            lines = f.readlines()\n",
    "            f.write('....')\n",
    "        ```\n",
    "    - pandas\n",
    "        - *.csv\n",
    "        - *.tsv\n",
    "        - spread sheet\n",
    "            - import pandas as pd\n",
    "            - ? = pd.read_csv(path)\n",
    "            \n",
    "            pd.read_csv('...')...\n",
    "    - numpy\n",
    "    \n",
    "    - 파일 경로\n",
    "        - 절대경로\n",
    "            - C:/Users/Seohyun/Desktop/sample.txt\n",
    "        - 상대경로\n",
    "            - . : 현재 위치\n",
    "            - ..: 상위 경로\n",
    "    \n",
    "- pandas\n",
    "    - read_csv(path, sep=\"-\", names=['aaa', 'bbbb', 'ddd'], dtype={'age': int})\n",
    "    - df.to_csv(path, sep=\"-\")\n",
    "- numpy\n",
    "    - a = [1, 2, 3]"
   ]
  },
  {
   "cell_type": "code",
   "execution_count": 98,
   "metadata": {},
   "outputs": [
    {
     "name": "stdout",
     "output_type": "stream",
     "text": [
      "[[8.51888894 2.0454247 ]\n",
      " [7.73470845 2.96767996]\n",
      " [6.7403999  4.15196478]]\n",
      "[[9.51888894 3.0454247 ]\n",
      " [8.73470845 3.96767996]\n",
      " [7.7403999  5.15196478]]\n",
      "[[72.57146884  4.18376222]\n",
      " [59.8257148   8.80712435]\n",
      " [45.43299076 17.23881157]]\n"
     ]
    }
   ],
   "source": [
    "import numpy as np\n",
    "\n",
    "np.zeros(4)\n",
    "np.zeros((2, 3))\n",
    "\n",
    "m1 = np.ones((2, 3))\n",
    "m2 = np.ones((2, 3))\n",
    "m1+m2\n",
    "m3 = m2.T # (3, 2)\n",
    "np.matmul(m1, m3) # (2, 3) * (3, 1) ==> (2, 1)\n",
    "m1.dot(m3) # (2, 3) * (3, 1) ==> (1, 2)\n",
    "\n",
    "y = 10 * np.random.rand(3, 2) \n",
    "print(y)\n",
    "print(y + 1)\n",
    "print(y ** 2)\n",
    "\n",
    "\n",
    "# x (2), y (2)\n",
    "# 1. euclidean distance ^ 2\n",
    "# 2. euclidean distance\n",
    "# 3. cosine similarity (google)\n",
    "\n",
    "\n",
    "\n",
    "# np.random.randint((3, 2))"
   ]
  },
  {
   "cell_type": "code",
   "execution_count": 92,
   "metadata": {},
   "outputs": [
    {
     "data": {
      "text/plain": [
       "2"
      ]
     },
     "execution_count": 92,
     "metadata": {},
     "output_type": "execute_result"
    }
   ],
   "source": [
    "a = [[1, 2, 3], [0, 0, 2]]\n",
    "a[1][2]\n",
    "a[row][col]"
   ]
  },
  {
   "cell_type": "code",
   "execution_count": 77,
   "metadata": {},
   "outputs": [
    {
     "name": "stdout",
     "output_type": "stream",
     "text": [
      "[1, 2, 5]\n"
     ]
    }
   ],
   "source": [
    "a = [1, 2, 3]\n",
    "b = [0, 0, 2]\n",
    "\n",
    "c = [0, 0, 0]\n",
    "for i in range(3):\n",
    "    c[i] = a[i] + b[i]\n",
    "print(c)"
   ]
  },
  {
   "cell_type": "code",
   "execution_count": 74,
   "metadata": {},
   "outputs": [
    {
     "data": {
      "text/plain": [
       "9"
      ]
     },
     "execution_count": 74,
     "metadata": {},
     "output_type": "execute_result"
    }
   ],
   "source": [
    "# 함수(i1, i2, i3=3)\n",
    "def mysum(x, y, z=3):\n",
    "    return x + y + z\n",
    "\n",
    "mysum(1, 2, z=6)"
   ]
  },
  {
   "cell_type": "code",
   "execution_count": 71,
   "metadata": {},
   "outputs": [],
   "source": [
    "import pandas as pd\n",
    "path = './data/profile.csv'\n",
    "df = pd.read_csv(path)\n",
    "\n",
    "# dict()\n",
    "# list()\n",
    "\n",
    "df2 = pd.DataFrame(\n",
    "    {\n",
    "     'name': ['Kate', 'Robert', 'Tom', 'Chole'],\n",
    "     'age': [10, 22, 15, 21]\n",
    "    }\n",
    ")\n",
    "\n",
    "df2.to_csv('./df2.csv')"
   ]
  },
  {
   "cell_type": "code",
   "execution_count": 70,
   "metadata": {},
   "outputs": [
    {
     "name": "stdout",
     "output_type": "stream",
     "text": [
      "<class 'pandas.core.frame.DataFrame'>\n",
      "0      Kate\n",
      "1    Robert\n",
      "2       Tom\n",
      "3     Chloe\n",
      "Name: name, dtype: object\n",
      "Robert\n"
     ]
    },
    {
     "name": "stderr",
     "output_type": "stream",
     "text": [
      "/anaconda3/lib/python3.6/site-packages/ipykernel_launcher.py:5: SettingWithCopyWarning: \n",
      "A value is trying to be set on a copy of a slice from a DataFrame\n",
      "\n",
      "See the caveats in the documentation: http://pandas.pydata.org/pandas-docs/stable/indexing.html#indexing-view-versus-copy\n",
      "  \"\"\"\n"
     ]
    },
    {
     "data": {
      "text/html": [
       "<div>\n",
       "<style scoped>\n",
       "    .dataframe tbody tr th:only-of-type {\n",
       "        vertical-align: middle;\n",
       "    }\n",
       "\n",
       "    .dataframe tbody tr th {\n",
       "        vertical-align: top;\n",
       "    }\n",
       "\n",
       "    .dataframe thead th {\n",
       "        text-align: right;\n",
       "    }\n",
       "</style>\n",
       "<table border=\"1\" class=\"dataframe\">\n",
       "  <thead>\n",
       "    <tr style=\"text-align: right;\">\n",
       "      <th></th>\n",
       "      <th>name</th>\n",
       "      <th>age</th>\n",
       "      <th>address</th>\n",
       "    </tr>\n",
       "  </thead>\n",
       "  <tbody>\n",
       "    <tr>\n",
       "      <th>0</th>\n",
       "      <td>Kate</td>\n",
       "      <td>10</td>\n",
       "      <td>ABC</td>\n",
       "    </tr>\n",
       "    <tr>\n",
       "      <th>1</th>\n",
       "      <td>ROBERT</td>\n",
       "      <td>22</td>\n",
       "      <td>AAA</td>\n",
       "    </tr>\n",
       "    <tr>\n",
       "      <th>2</th>\n",
       "      <td>Tom</td>\n",
       "      <td>15</td>\n",
       "      <td>VVV</td>\n",
       "    </tr>\n",
       "    <tr>\n",
       "      <th>3</th>\n",
       "      <td>Chloe</td>\n",
       "      <td>21</td>\n",
       "      <td>VVV</td>\n",
       "    </tr>\n",
       "  </tbody>\n",
       "</table>\n",
       "</div>"
      ],
      "text/plain": [
       "     name  age address\n",
       "0    Kate   10     ABC\n",
       "1  ROBERT   22     AAA\n",
       "2     Tom   15     VVV\n",
       "3   Chloe   21     VVV"
      ]
     },
     "execution_count": 70,
     "metadata": {},
     "output_type": "execute_result"
    }
   ],
   "source": [
    "print(type(df[0: 3]))\n",
    "print(df['name'])\n",
    "print(df['name'][1])\n",
    "\n",
    "df['name'][1] = 'ROBERT'\n",
    "# del df['mane']\n",
    "# del df[0: 3]"
   ]
  },
  {
   "cell_type": "code",
   "execution_count": 62,
   "metadata": {},
   "outputs": [
    {
     "data": {
      "text/html": [
       "<div>\n",
       "<style scoped>\n",
       "    .dataframe tbody tr th:only-of-type {\n",
       "        vertical-align: middle;\n",
       "    }\n",
       "\n",
       "    .dataframe tbody tr th {\n",
       "        vertical-align: top;\n",
       "    }\n",
       "\n",
       "    .dataframe thead th {\n",
       "        text-align: right;\n",
       "    }\n",
       "</style>\n",
       "<table border=\"1\" class=\"dataframe\">\n",
       "  <thead>\n",
       "    <tr style=\"text-align: right;\">\n",
       "      <th></th>\n",
       "      <th>name</th>\n",
       "      <th>age</th>\n",
       "      <th>address</th>\n",
       "    </tr>\n",
       "  </thead>\n",
       "  <tbody>\n",
       "    <tr>\n",
       "      <th>0</th>\n",
       "      <td>Kate</td>\n",
       "      <td>10</td>\n",
       "      <td>ABC</td>\n",
       "    </tr>\n",
       "    <tr>\n",
       "      <th>1</th>\n",
       "      <td>Robert</td>\n",
       "      <td>22</td>\n",
       "      <td>AAA</td>\n",
       "    </tr>\n",
       "    <tr>\n",
       "      <th>2</th>\n",
       "      <td>Tom</td>\n",
       "      <td>15</td>\n",
       "      <td>VVV</td>\n",
       "    </tr>\n",
       "    <tr>\n",
       "      <th>3</th>\n",
       "      <td>Chloe</td>\n",
       "      <td>21</td>\n",
       "      <td>VVV</td>\n",
       "    </tr>\n",
       "  </tbody>\n",
       "</table>\n",
       "</div>"
      ],
      "text/plain": [
       "     name  age address\n",
       "0    Kate   10     ABC\n",
       "1  Robert   22     AAA\n",
       "2     Tom   15     VVV\n",
       "3   Chloe   21     VVV"
      ]
     },
     "execution_count": 62,
     "metadata": {},
     "output_type": "execute_result"
    }
   ],
   "source": [
    "df"
   ]
  },
  {
   "cell_type": "code",
   "execution_count": 102,
   "metadata": {},
   "outputs": [
    {
     "data": {
      "text/plain": [
       "array([[1, 2, 3],\n",
       "       [0, 0, 1]])"
      ]
     },
     "execution_count": 102,
     "metadata": {},
     "output_type": "execute_result"
    }
   ],
   "source": [
    "# list --> np.array()\n",
    "np.array([[1, 2, 3], [0, 0, 1]])"
   ]
  },
  {
   "cell_type": "code",
   "execution_count": 58,
   "metadata": {},
   "outputs": [
    {
     "data": {
      "text/plain": [
       "\"\\n# 상대경로 \\nf = open('./data/documents.txt', 'r')\\nlines = f.readlines()\\nf.close()\\nprint(lines[0])\\n\\nf = open('./../0809/0809-hw.md')\\nlines = f.readlines()\\nf.close()\\nprint(lines[0])\\n\\nf = open('./sample.txt', 'a')\\nf.write('asdfasdfasdfas')\\nf.write('asdfasdfasdfas')\\nf.write('asdfasdfasdfas')\\nf.write('asdfasdfasdfas')\\nf.write('asdfasdfasdfas')\\nf.close()\\n# f = open(파일경로, 옵션)\\n\""
      ]
     },
     "execution_count": 58,
     "metadata": {},
     "output_type": "execute_result"
    }
   ],
   "source": [
    "# 절대경로\n",
    "f = open('/Users/haekyu/Downloads/jinseohyun/0812/data/documents.txt', 'r')\n",
    "# lines = f.readlines()\n",
    "# print(f.readline())\n",
    "# print(f.readline())\n",
    "# print(f.readline())\n",
    "# while True:\n",
    "#     line = f.readline()\n",
    "    \n",
    "#     if line == '':\n",
    "#         break\n",
    "        \n",
    "for i in range(6): # 0~5\n",
    "    line = f.readline()\n",
    "line = f.readline() # 6\n",
    "f.close()\n",
    "\n",
    "\"\"\"\n",
    "# 상대경로 \n",
    "f = open('./data/documents.txt', 'r')\n",
    "lines = f.readlines()\n",
    "f.close()\n",
    "print(lines[0])\n",
    "\n",
    "f = open('./../0809/0809-hw.md')\n",
    "lines = f.readlines()\n",
    "f.close()\n",
    "print(lines[0])\n",
    "\n",
    "f = open('./sample.txt', 'a')\n",
    "f.write('asdfasdfasdfas')\n",
    "f.write('asdfasdfasdfas')\n",
    "f.write('asdfasdfasdfas')\n",
    "f.write('asdfasdfasdfas')\n",
    "f.write('asdfasdfasdfas')\n",
    "f.close()\n",
    "# f = open(파일경로, 옵션)\n",
    "\"\"\"\n",
    "# - 'r'\n",
    "# - 'w'\n",
    "# - 'a'\n",
    "\n",
    "# ㅁㄴㅇㄹ\n",
    "# ㅁㄴㄹ\n",
    "# ㅁㄴㅇㄹ\n",
    "# ㄴㅁㄹ\n",
    "\n",
    "# f.close()\n",
    "\n",
    "# s = 'Love is an\\ open\\ door\\'\n",
    "# s = s.replace('\\', '\\\\')\n",
    "# print(s)"
   ]
  },
  {
   "cell_type": "code",
   "execution_count": 40,
   "metadata": {},
   "outputs": [
    {
     "name": "stdout",
     "output_type": "stream",
     "text": [
      "0\n",
      "1\n",
      "2\n",
      "3\n",
      "4\n",
      "6\n",
      "7\n",
      "8\n",
      "9\n"
     ]
    }
   ],
   "source": [
    "for i in range(10):\n",
    "    if i == 5:\n",
    "        continue\n",
    "    print(i)"
   ]
  },
  {
   "cell_type": "markdown",
   "metadata": {},
   "source": [
    "## TF-IDF\n",
    "- Dictionary\n",
    "- 파일 읽기"
   ]
  },
  {
   "cell_type": "markdown",
   "metadata": {},
   "source": [
    "## K-means clustering"
   ]
  },
  {
   "cell_type": "code",
   "execution_count": 27,
   "metadata": {},
   "outputs": [],
   "source": [
    "import numpy as np\n",
    "\n",
    "vectors = np.zeros((100, 2))\n",
    "for i in range(100):\n",
    "    vectors[i] = np.random.rand(2)\n",
    "\n",
    "np.savetxt('./data/sample_2d_vecs.csv', vectors, fmt='%.5lf', delimiter=',')"
   ]
  },
  {
   "cell_type": "code",
   "execution_count": 28,
   "metadata": {},
   "outputs": [
    {
     "data": {
      "image/png": "[encoded data removed]",
      "text/plain": [
       "<Figure size 432x288 with 1 Axes>"
      ]
     },
     "metadata": {
      "needs_background": "light"
     },
     "output_type": "display_data"
    }
   ],
   "source": [
    "import matplotlib.pyplot as plt\n",
    "plt.figure()\n",
    "plt.scatter(vectors[:, 0], vectors[:, 1])\n",
    "plt.show()"
   ]
  },
  {
   "cell_type": "code",
   "execution_count": 100,
   "metadata": {},
   "outputs": [
    {
     "ename": "SyntaxError",
     "evalue": "invalid syntax (<ipython-input-100-abc09d424f67>, line 1)",
     "output_type": "error",
     "traceback": [
      "\u001b[0;36m  File \u001b[0;32m\"<ipython-input-100-abc09d424f67>\"\u001b[0;36m, line \u001b[0;32m1\u001b[0m\n\u001b[0;31m    k = ???\u001b[0m\n\u001b[0m        ^\u001b[0m\n\u001b[0;31mSyntaxError\u001b[0m\u001b[0;31m:\u001b[0m invalid syntax\n"
     ]
    }
   ],
   "source": [
    "k = ???\n",
    "\n",
    "# center rand initialization\n",
    "curr_centers = ??\n",
    "curr_groups = {} # key = center, values = [, ,. , , , ,]\n",
    "\n",
    "# iteration\n",
    "while True:\n",
    "    \n",
    "    # 이전 센터들 // list // np.array()\n",
    "    # element == index\n",
    "    prev_centers = curr_centers[:]\n",
    "    prev_groups = curr_groups\n",
    "    \n",
    "    ## center update\n",
    "    for center in prev_centers:\n",
    "        \n",
    "#     for 모든 그룹에 대해서, prev_centers를 기준으로 한:\n",
    "#         curr_centers 업데이트\n",
    "    \n",
    "    # 현재 센터들 // list // np.array()\n",
    "#     curr_centers = ???\n",
    "    \n",
    "    # center 수렴 여부\n",
    "    prev_centers과 현재 curr_centes가 같은지\n",
    "    \n",
    "    # 수렴을 하면\n",
    "    if center 수렴:\n",
    "        break"
   ]
  },
  {
   "cell_type": "code",
   "execution_count": 33,
   "metadata": {},
   "outputs": [],
   "source": [
    "k = 10\n",
    "\n",
    "centroids = np.random.randint(low=0, high=100, size=k)\n",
    "\n",
    "while True:\n",
    "    prev_centroids = centroids[:]\n",
    "    \n",
    "    centroids = []\n",
    "    for i in \n",
    "    \n",
    "\n",
    "    is_converged = True\n",
    "    for c1 in prev_centroids:\n",
    "        if c1 not in centroids:\n",
    "            is_converged = False\n",
    "            \n",
    "    if is_converged:\n",
    "        break"
   ]
  },
  {
   "cell_type": "code",
   "execution_count": 37,
   "metadata": {},
   "outputs": [
    {
     "name": "stdout",
     "output_type": "stream",
     "text": [
      "{'I': 1, 'am': 1, 'a': 2, 'boy': 1, 'you': 1, 'are': 1, 'girl': 1}\n"
     ]
    }
   ],
   "source": [
    "\n",
    "def word_freqs(sentence):\n",
    "\n",
    "    # sentence 를 띄어쓰기 단위로 나누어, \n",
    "    # words 라는 리스트에 저장한다.\n",
    "    words = sentence.split(' ')\n",
    "\n",
    "    # freq_dict 라는 새로운 dictionary를 만든다. 우리의 output이 될 것이다.\n",
    "    # - key: a word\n",
    "    # - val: # of the key in the sentence\n",
    "    freq_dict = dict()\n",
    "\n",
    "    # 각 word 를 살펴보면서 등장횟수를 count up 한다 (1씩 올려줌).\n",
    "    \n",
    "    for word in words:\n",
    "        # word 가 최초 등장\n",
    "        if word not in freq_dict:\n",
    "            freq_dict[word] = 1\n",
    "            \n",
    "        # word가 기존에 있었으면 count up\n",
    "        else:\n",
    "            freq_dict[word] = freq_dict[word] + 1\n",
    "\n",
    "    # freq_dict를 리턴한다.\n",
    "    return freq_dict\n",
    "\n",
    "s = \"I am a boy you are a girl\"\n",
    "freq_dict = word_freqs(s)\n",
    "print(freq_dict)"
   ]
  },
  {
   "cell_type": "code",
   "execution_count": null,
   "metadata": {},
   "outputs": [],
   "source": []
  },
  {
   "cell_type": "code",
   "execution_count": null,
   "metadata": {},
   "outputs": [],
   "source": []
  },
  {
   "cell_type": "code",
   "execution_count": null,
   "metadata": {},
   "outputs": [],
   "source": []
  },
  {
   "cell_type": "code",
   "execution_count": null,
   "metadata": {},
   "outputs": [],
   "source": []
  },
  {
   "cell_type": "code",
   "execution_count": null,
   "metadata": {},
   "outputs": [],
   "source": []
  },
  {
   "cell_type": "code",
   "execution_count": null,
   "metadata": {},
   "outputs": [],
   "source": []
  },
  {
   "cell_type": "code",
   "execution_count": null,
   "metadata": {},
   "outputs": [],
   "source": []
  },
  {
   "cell_type": "code",
   "execution_count": null,
   "metadata": {},
   "outputs": [],
   "source": []
  },
  {
   "cell_type": "code",
   "execution_count": null,
   "metadata": {},
   "outputs": [],
   "source": []
  },
  {
   "cell_type": "code",
   "execution_count": null,
   "metadata": {},
   "outputs": [],
   "source": []
  },
  {
   "cell_type": "code",
   "execution_count": null,
   "metadata": {},
   "outputs": [],
   "source": []
  },
  {
   "cell_type": "code",
   "execution_count": null,
   "metadata": {},
   "outputs": [],
   "source": []
  },
  {
   "cell_type": "code",
   "execution_count": null,
   "metadata": {},
   "outputs": [],
   "source": []
  },
  {
   "cell_type": "code",
   "execution_count": null,
   "metadata": {},
   "outputs": [],
   "source": []
  }
 ],
 "metadata": {
  "kernelspec": {
   "display_name": "Python 3",
   "language": "python",
   "name": "python3"
  },
  "language_info": {
   "codemirror_mode": {
    "name": "ipython",
    "version": 3
   },
   "file_extension": ".py",
   "mimetype": "text/x-python",
   "name": "python",
   "nbconvert_exporter": "python",
   "pygments_lexer": "ipython3",
   "version": "3.6.7"
  }
 },
 "nbformat": 4,
 "nbformat_minor": 2
}
